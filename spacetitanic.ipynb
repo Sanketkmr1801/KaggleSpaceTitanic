{
 "cells": [
  {
   "cell_type": "code",
   "execution_count": 1,
   "id": "ccf6a9e0",
   "metadata": {
    "_cell_guid": "b1076dfc-b9ad-4769-8c92-a6c4dae69d19",
    "_uuid": "8f2839f25d086af736a60e9eeb907d3b93b6e0e5",
    "execution": {
     "iopub.execute_input": "2022-04-15T11:31:28.602373Z",
     "iopub.status.busy": "2022-04-15T11:31:28.601813Z",
     "iopub.status.idle": "2022-04-15T11:31:28.614902Z",
     "shell.execute_reply": "2022-04-15T11:31:28.614091Z"
    },
    "papermill": {
     "duration": 0.070001,
     "end_time": "2022-04-15T11:31:28.617429",
     "exception": false,
     "start_time": "2022-04-15T11:31:28.547428",
     "status": "completed"
    },
    "tags": []
   },
   "outputs": [
    {
     "name": "stdout",
     "output_type": "stream",
     "text": [
      "/kaggle/input/spaceship-titanic/sample_submission.csv\n",
      "/kaggle/input/spaceship-titanic/train.csv\n",
      "/kaggle/input/spaceship-titanic/test.csv\n"
     ]
    }
   ],
   "source": [
    "# This Python 3 environment comes with many helpful analytics libraries installed\n",
    "# It is defined by the kaggle/python Docker image: https://github.com/kaggle/docker-python\n",
    "# For example, here's several helpful packages to load\n",
    "\n",
    "import numpy as np # linear algebra\n",
    "import pandas as pd # data processing, CSV file I/O (e.g. pd.read_csv)\n",
    "import matplotlib.pyplot as plt\n",
    "# Input data files are available in the read-only \"../input/\" directory\n",
    "# For example, running this (by clicking run or pressing Shift+Enter) will list all files under the input directory\n",
    "\n",
    "import os\n",
    "for dirname, _, filenames in os.walk('/kaggle/input'):\n",
    "    for filename in filenames:\n",
    "        print(os.path.join(dirname, filename))\n",
    "\n",
    "# You can write up to 20GB to the current directory (/kaggle/working/) that gets preserved as output when you create a version using \"Save & Run All\" \n",
    "# You can also write temporary files to /kaggle/temp/, but they won't be saved outside of the current session"
   ]
  },
  {
   "cell_type": "code",
   "execution_count": 2,
   "id": "e4f42077",
   "metadata": {
    "execution": {
     "iopub.execute_input": "2022-04-15T11:31:28.726420Z",
     "iopub.status.busy": "2022-04-15T11:31:28.725913Z",
     "iopub.status.idle": "2022-04-15T11:31:28.807675Z",
     "shell.execute_reply": "2022-04-15T11:31:28.806912Z"
    },
    "papermill": {
     "duration": 0.13863,
     "end_time": "2022-04-15T11:31:28.810031",
     "exception": false,
     "start_time": "2022-04-15T11:31:28.671401",
     "status": "completed"
    },
    "tags": []
   },
   "outputs": [],
   "source": [
    "df = pd.read_csv(\"../input/spaceship-titanic/train.csv\")\n",
    "test = pd.read_csv(\"../input/spaceship-titanic/test.csv\")"
   ]
  },
  {
   "cell_type": "code",
   "execution_count": 3,
   "id": "8a733843",
   "metadata": {
    "execution": {
     "iopub.execute_input": "2022-04-15T11:31:28.916212Z",
     "iopub.status.busy": "2022-04-15T11:31:28.915434Z",
     "iopub.status.idle": "2022-04-15T11:31:29.963316Z",
     "shell.execute_reply": "2022-04-15T11:31:29.962594Z"
    },
    "papermill": {
     "duration": 1.103906,
     "end_time": "2022-04-15T11:31:29.965726",
     "exception": false,
     "start_time": "2022-04-15T11:31:28.861820",
     "status": "completed"
    },
    "tags": []
   },
   "outputs": [],
   "source": [
    "import seaborn as sns"
   ]
  },
  {
   "cell_type": "code",
   "execution_count": 4,
   "id": "1bac87a8",
   "metadata": {
    "execution": {
     "iopub.execute_input": "2022-04-15T11:31:30.071144Z",
     "iopub.status.busy": "2022-04-15T11:31:30.070880Z",
     "iopub.status.idle": "2022-04-15T11:31:30.074735Z",
     "shell.execute_reply": "2022-04-15T11:31:30.073939Z"
    },
    "papermill": {
     "duration": 0.058815,
     "end_time": "2022-04-15T11:31:30.076553",
     "exception": false,
     "start_time": "2022-04-15T11:31:30.017738",
     "status": "completed"
    },
    "tags": []
   },
   "outputs": [],
   "source": [
    "sns.set_style(\"whitegrid\")"
   ]
  },
  {
   "cell_type": "code",
   "execution_count": 5,
   "id": "34293db2",
   "metadata": {
    "execution": {
     "iopub.execute_input": "2022-04-15T11:31:30.180917Z",
     "iopub.status.busy": "2022-04-15T11:31:30.180376Z",
     "iopub.status.idle": "2022-04-15T11:31:30.207712Z",
     "shell.execute_reply": "2022-04-15T11:31:30.207088Z"
    },
    "papermill": {
     "duration": 0.081685,
     "end_time": "2022-04-15T11:31:30.209534",
     "exception": false,
     "start_time": "2022-04-15T11:31:30.127849",
     "status": "completed"
    },
    "tags": []
   },
   "outputs": [
    {
     "data": {
      "text/html": [
       "<div>\n",
       "<style scoped>\n",
       "    .dataframe tbody tr th:only-of-type {\n",
       "        vertical-align: middle;\n",
       "    }\n",
       "\n",
       "    .dataframe tbody tr th {\n",
       "        vertical-align: top;\n",
       "    }\n",
       "\n",
       "    .dataframe thead th {\n",
       "        text-align: right;\n",
       "    }\n",
       "</style>\n",
       "<table border=\"1\" class=\"dataframe\">\n",
       "  <thead>\n",
       "    <tr style=\"text-align: right;\">\n",
       "      <th></th>\n",
       "      <th>PassengerId</th>\n",
       "      <th>HomePlanet</th>\n",
       "      <th>CryoSleep</th>\n",
       "      <th>Cabin</th>\n",
       "      <th>Destination</th>\n",
       "      <th>Age</th>\n",
       "      <th>VIP</th>\n",
       "      <th>RoomService</th>\n",
       "      <th>FoodCourt</th>\n",
       "      <th>ShoppingMall</th>\n",
       "      <th>Spa</th>\n",
       "      <th>VRDeck</th>\n",
       "      <th>Name</th>\n",
       "      <th>Transported</th>\n",
       "    </tr>\n",
       "  </thead>\n",
       "  <tbody>\n",
       "    <tr>\n",
       "      <th>0</th>\n",
       "      <td>0001_01</td>\n",
       "      <td>Europa</td>\n",
       "      <td>False</td>\n",
       "      <td>B/0/P</td>\n",
       "      <td>TRAPPIST-1e</td>\n",
       "      <td>39.0</td>\n",
       "      <td>False</td>\n",
       "      <td>0.0</td>\n",
       "      <td>0.0</td>\n",
       "      <td>0.0</td>\n",
       "      <td>0.0</td>\n",
       "      <td>0.0</td>\n",
       "      <td>Maham Ofracculy</td>\n",
       "      <td>False</td>\n",
       "    </tr>\n",
       "    <tr>\n",
       "      <th>1</th>\n",
       "      <td>0002_01</td>\n",
       "      <td>Earth</td>\n",
       "      <td>False</td>\n",
       "      <td>F/0/S</td>\n",
       "      <td>TRAPPIST-1e</td>\n",
       "      <td>24.0</td>\n",
       "      <td>False</td>\n",
       "      <td>109.0</td>\n",
       "      <td>9.0</td>\n",
       "      <td>25.0</td>\n",
       "      <td>549.0</td>\n",
       "      <td>44.0</td>\n",
       "      <td>Juanna Vines</td>\n",
       "      <td>True</td>\n",
       "    </tr>\n",
       "    <tr>\n",
       "      <th>2</th>\n",
       "      <td>0003_01</td>\n",
       "      <td>Europa</td>\n",
       "      <td>False</td>\n",
       "      <td>A/0/S</td>\n",
       "      <td>TRAPPIST-1e</td>\n",
       "      <td>58.0</td>\n",
       "      <td>True</td>\n",
       "      <td>43.0</td>\n",
       "      <td>3576.0</td>\n",
       "      <td>0.0</td>\n",
       "      <td>6715.0</td>\n",
       "      <td>49.0</td>\n",
       "      <td>Altark Susent</td>\n",
       "      <td>False</td>\n",
       "    </tr>\n",
       "    <tr>\n",
       "      <th>3</th>\n",
       "      <td>0003_02</td>\n",
       "      <td>Europa</td>\n",
       "      <td>False</td>\n",
       "      <td>A/0/S</td>\n",
       "      <td>TRAPPIST-1e</td>\n",
       "      <td>33.0</td>\n",
       "      <td>False</td>\n",
       "      <td>0.0</td>\n",
       "      <td>1283.0</td>\n",
       "      <td>371.0</td>\n",
       "      <td>3329.0</td>\n",
       "      <td>193.0</td>\n",
       "      <td>Solam Susent</td>\n",
       "      <td>False</td>\n",
       "    </tr>\n",
       "    <tr>\n",
       "      <th>4</th>\n",
       "      <td>0004_01</td>\n",
       "      <td>Earth</td>\n",
       "      <td>False</td>\n",
       "      <td>F/1/S</td>\n",
       "      <td>TRAPPIST-1e</td>\n",
       "      <td>16.0</td>\n",
       "      <td>False</td>\n",
       "      <td>303.0</td>\n",
       "      <td>70.0</td>\n",
       "      <td>151.0</td>\n",
       "      <td>565.0</td>\n",
       "      <td>2.0</td>\n",
       "      <td>Willy Santantines</td>\n",
       "      <td>True</td>\n",
       "    </tr>\n",
       "  </tbody>\n",
       "</table>\n",
       "</div>"
      ],
      "text/plain": [
       "  PassengerId HomePlanet CryoSleep  Cabin  Destination   Age    VIP  \\\n",
       "0     0001_01     Europa     False  B/0/P  TRAPPIST-1e  39.0  False   \n",
       "1     0002_01      Earth     False  F/0/S  TRAPPIST-1e  24.0  False   \n",
       "2     0003_01     Europa     False  A/0/S  TRAPPIST-1e  58.0   True   \n",
       "3     0003_02     Europa     False  A/0/S  TRAPPIST-1e  33.0  False   \n",
       "4     0004_01      Earth     False  F/1/S  TRAPPIST-1e  16.0  False   \n",
       "\n",
       "   RoomService  FoodCourt  ShoppingMall     Spa  VRDeck               Name  \\\n",
       "0          0.0        0.0           0.0     0.0     0.0    Maham Ofracculy   \n",
       "1        109.0        9.0          25.0   549.0    44.0       Juanna Vines   \n",
       "2         43.0     3576.0           0.0  6715.0    49.0      Altark Susent   \n",
       "3          0.0     1283.0         371.0  3329.0   193.0       Solam Susent   \n",
       "4        303.0       70.0         151.0   565.0     2.0  Willy Santantines   \n",
       "\n",
       "   Transported  \n",
       "0        False  \n",
       "1         True  \n",
       "2        False  \n",
       "3        False  \n",
       "4         True  "
      ]
     },
     "execution_count": 5,
     "metadata": {},
     "output_type": "execute_result"
    }
   ],
   "source": [
    "df.head()"
   ]
  },
  {
   "cell_type": "code",
   "execution_count": 6,
   "id": "23901bcb",
   "metadata": {
    "execution": {
     "iopub.execute_input": "2022-04-15T11:31:30.315765Z",
     "iopub.status.busy": "2022-04-15T11:31:30.315264Z",
     "iopub.status.idle": "2022-04-15T11:31:30.331400Z",
     "shell.execute_reply": "2022-04-15T11:31:30.330792Z"
    },
    "papermill": {
     "duration": 0.072198,
     "end_time": "2022-04-15T11:31:30.333534",
     "exception": false,
     "start_time": "2022-04-15T11:31:30.261336",
     "status": "completed"
    },
    "tags": []
   },
   "outputs": [],
   "source": [
    "df[\"NumGroups\"] = df[\"PassengerId\"].str[5 : ]\n",
    "test[\"NumGroups\"] = test[\"PassengerId\"].str[5 : ]"
   ]
  },
  {
   "cell_type": "code",
   "execution_count": 7,
   "id": "500a2964",
   "metadata": {
    "execution": {
     "iopub.execute_input": "2022-04-15T11:31:30.439978Z",
     "iopub.status.busy": "2022-04-15T11:31:30.439318Z",
     "iopub.status.idle": "2022-04-15T11:31:30.450337Z",
     "shell.execute_reply": "2022-04-15T11:31:30.449774Z"
    },
    "papermill": {
     "duration": 0.066481,
     "end_time": "2022-04-15T11:31:30.452380",
     "exception": false,
     "start_time": "2022-04-15T11:31:30.385899",
     "status": "completed"
    },
    "tags": []
   },
   "outputs": [],
   "source": [
    "df[\"GroupNumber\"] = df[\"PassengerId\"].str[ : 4]\n",
    "test[\"GroupNumber\"] = test[\"PassengerId\"].str[ : 4]"
   ]
  },
  {
   "cell_type": "code",
   "execution_count": 8,
   "id": "68f41180",
   "metadata": {
    "execution": {
     "iopub.execute_input": "2022-04-15T11:31:30.557495Z",
     "iopub.status.busy": "2022-04-15T11:31:30.557007Z",
     "iopub.status.idle": "2022-04-15T11:31:30.576982Z",
     "shell.execute_reply": "2022-04-15T11:31:30.576461Z"
    },
    "papermill": {
     "duration": 0.074827,
     "end_time": "2022-04-15T11:31:30.578844",
     "exception": false,
     "start_time": "2022-04-15T11:31:30.504017",
     "status": "completed"
    },
    "tags": []
   },
   "outputs": [
    {
     "data": {
      "text/html": [
       "<div>\n",
       "<style scoped>\n",
       "    .dataframe tbody tr th:only-of-type {\n",
       "        vertical-align: middle;\n",
       "    }\n",
       "\n",
       "    .dataframe tbody tr th {\n",
       "        vertical-align: top;\n",
       "    }\n",
       "\n",
       "    .dataframe thead th {\n",
       "        text-align: right;\n",
       "    }\n",
       "</style>\n",
       "<table border=\"1\" class=\"dataframe\">\n",
       "  <thead>\n",
       "    <tr style=\"text-align: right;\">\n",
       "      <th></th>\n",
       "      <th>PassengerId</th>\n",
       "      <th>HomePlanet</th>\n",
       "      <th>CryoSleep</th>\n",
       "      <th>Cabin</th>\n",
       "      <th>Destination</th>\n",
       "      <th>Age</th>\n",
       "      <th>VIP</th>\n",
       "      <th>RoomService</th>\n",
       "      <th>FoodCourt</th>\n",
       "      <th>ShoppingMall</th>\n",
       "      <th>Spa</th>\n",
       "      <th>VRDeck</th>\n",
       "      <th>Name</th>\n",
       "      <th>Transported</th>\n",
       "      <th>NumGroups</th>\n",
       "      <th>GroupNumber</th>\n",
       "    </tr>\n",
       "  </thead>\n",
       "  <tbody>\n",
       "    <tr>\n",
       "      <th>0</th>\n",
       "      <td>0001_01</td>\n",
       "      <td>Europa</td>\n",
       "      <td>False</td>\n",
       "      <td>B/0/P</td>\n",
       "      <td>TRAPPIST-1e</td>\n",
       "      <td>39.0</td>\n",
       "      <td>False</td>\n",
       "      <td>0.0</td>\n",
       "      <td>0.0</td>\n",
       "      <td>0.0</td>\n",
       "      <td>0.0</td>\n",
       "      <td>0.0</td>\n",
       "      <td>Maham Ofracculy</td>\n",
       "      <td>False</td>\n",
       "      <td>01</td>\n",
       "      <td>0001</td>\n",
       "    </tr>\n",
       "    <tr>\n",
       "      <th>1</th>\n",
       "      <td>0002_01</td>\n",
       "      <td>Earth</td>\n",
       "      <td>False</td>\n",
       "      <td>F/0/S</td>\n",
       "      <td>TRAPPIST-1e</td>\n",
       "      <td>24.0</td>\n",
       "      <td>False</td>\n",
       "      <td>109.0</td>\n",
       "      <td>9.0</td>\n",
       "      <td>25.0</td>\n",
       "      <td>549.0</td>\n",
       "      <td>44.0</td>\n",
       "      <td>Juanna Vines</td>\n",
       "      <td>True</td>\n",
       "      <td>01</td>\n",
       "      <td>0002</td>\n",
       "    </tr>\n",
       "    <tr>\n",
       "      <th>2</th>\n",
       "      <td>0003_01</td>\n",
       "      <td>Europa</td>\n",
       "      <td>False</td>\n",
       "      <td>A/0/S</td>\n",
       "      <td>TRAPPIST-1e</td>\n",
       "      <td>58.0</td>\n",
       "      <td>True</td>\n",
       "      <td>43.0</td>\n",
       "      <td>3576.0</td>\n",
       "      <td>0.0</td>\n",
       "      <td>6715.0</td>\n",
       "      <td>49.0</td>\n",
       "      <td>Altark Susent</td>\n",
       "      <td>False</td>\n",
       "      <td>01</td>\n",
       "      <td>0003</td>\n",
       "    </tr>\n",
       "    <tr>\n",
       "      <th>3</th>\n",
       "      <td>0003_02</td>\n",
       "      <td>Europa</td>\n",
       "      <td>False</td>\n",
       "      <td>A/0/S</td>\n",
       "      <td>TRAPPIST-1e</td>\n",
       "      <td>33.0</td>\n",
       "      <td>False</td>\n",
       "      <td>0.0</td>\n",
       "      <td>1283.0</td>\n",
       "      <td>371.0</td>\n",
       "      <td>3329.0</td>\n",
       "      <td>193.0</td>\n",
       "      <td>Solam Susent</td>\n",
       "      <td>False</td>\n",
       "      <td>02</td>\n",
       "      <td>0003</td>\n",
       "    </tr>\n",
       "    <tr>\n",
       "      <th>4</th>\n",
       "      <td>0004_01</td>\n",
       "      <td>Earth</td>\n",
       "      <td>False</td>\n",
       "      <td>F/1/S</td>\n",
       "      <td>TRAPPIST-1e</td>\n",
       "      <td>16.0</td>\n",
       "      <td>False</td>\n",
       "      <td>303.0</td>\n",
       "      <td>70.0</td>\n",
       "      <td>151.0</td>\n",
       "      <td>565.0</td>\n",
       "      <td>2.0</td>\n",
       "      <td>Willy Santantines</td>\n",
       "      <td>True</td>\n",
       "      <td>01</td>\n",
       "      <td>0004</td>\n",
       "    </tr>\n",
       "  </tbody>\n",
       "</table>\n",
       "</div>"
      ],
      "text/plain": [
       "  PassengerId HomePlanet CryoSleep  Cabin  Destination   Age    VIP  \\\n",
       "0     0001_01     Europa     False  B/0/P  TRAPPIST-1e  39.0  False   \n",
       "1     0002_01      Earth     False  F/0/S  TRAPPIST-1e  24.0  False   \n",
       "2     0003_01     Europa     False  A/0/S  TRAPPIST-1e  58.0   True   \n",
       "3     0003_02     Europa     False  A/0/S  TRAPPIST-1e  33.0  False   \n",
       "4     0004_01      Earth     False  F/1/S  TRAPPIST-1e  16.0  False   \n",
       "\n",
       "   RoomService  FoodCourt  ShoppingMall     Spa  VRDeck               Name  \\\n",
       "0          0.0        0.0           0.0     0.0     0.0    Maham Ofracculy   \n",
       "1        109.0        9.0          25.0   549.0    44.0       Juanna Vines   \n",
       "2         43.0     3576.0           0.0  6715.0    49.0      Altark Susent   \n",
       "3          0.0     1283.0         371.0  3329.0   193.0       Solam Susent   \n",
       "4        303.0       70.0         151.0   565.0     2.0  Willy Santantines   \n",
       "\n",
       "   Transported NumGroups GroupNumber  \n",
       "0        False        01        0001  \n",
       "1         True        01        0002  \n",
       "2        False        01        0003  \n",
       "3        False        02        0003  \n",
       "4         True        01        0004  "
      ]
     },
     "execution_count": 8,
     "metadata": {},
     "output_type": "execute_result"
    }
   ],
   "source": [
    "df.head()"
   ]
  },
  {
   "cell_type": "code",
   "execution_count": 9,
   "id": "ed3b003a",
   "metadata": {
    "execution": {
     "iopub.execute_input": "2022-04-15T11:31:30.685850Z",
     "iopub.status.busy": "2022-04-15T11:31:30.685321Z",
     "iopub.status.idle": "2022-04-15T11:31:31.121668Z",
     "shell.execute_reply": "2022-04-15T11:31:31.120672Z"
    },
    "papermill": {
     "duration": 0.493281,
     "end_time": "2022-04-15T11:31:31.124450",
     "exception": false,
     "start_time": "2022-04-15T11:31:30.631169",
     "status": "completed"
    },
    "tags": []
   },
   "outputs": [
    {
     "data": {
      "text/plain": [
       "<AxesSubplot:xlabel='HomePlanet', ylabel='Age'>"
      ]
     },
     "execution_count": 9,
     "metadata": {},
     "output_type": "execute_result"
    },
    {
     "data": {
      "image/png": "[encoded data removed]",
      "text/plain": [
       "<Figure size 432x288 with 1 Axes>"
      ]
     },
     "metadata": {},
     "output_type": "display_data"
    }
   ],
   "source": [
    "sns.violinplot(data = df, y = \"Age\", x = \"HomePlanet\", hue = \"Transported\")"
   ]
  },
  {
   "cell_type": "code",
   "execution_count": 10,
   "id": "139ea69f",
   "metadata": {
    "execution": {
     "iopub.execute_input": "2022-04-15T11:31:31.236110Z",
     "iopub.status.busy": "2022-04-15T11:31:31.235247Z",
     "iopub.status.idle": "2022-04-15T11:31:31.763260Z",
     "shell.execute_reply": "2022-04-15T11:31:31.762359Z"
    },
    "papermill": {
     "duration": 0.585487,
     "end_time": "2022-04-15T11:31:31.765202",
     "exception": false,
     "start_time": "2022-04-15T11:31:31.179715",
     "status": "completed"
    },
    "tags": []
   },
   "outputs": [
    {
     "data": {
      "text/plain": [
       "<AxesSubplot:xlabel='Age', ylabel='Count'>"
      ]
     },
     "execution_count": 10,
     "metadata": {},
     "output_type": "execute_result"
    },
    {
     "data": {
      "image/png": "[encoded data removed]",
      "text/plain": [
       "<Figure size 432x288 with 1 Axes>"
      ]
     },
     "metadata": {},
     "output_type": "display_data"
    }
   ],
   "source": [
    "sns.histplot(data = df, x = \"Age\", hue = \"VIP\")"
   ]
  },
  {
   "cell_type": "code",
   "execution_count": 11,
   "id": "93a5792d",
   "metadata": {
    "execution": {
     "iopub.execute_input": "2022-04-15T11:31:31.880531Z",
     "iopub.status.busy": "2022-04-15T11:31:31.880210Z",
     "iopub.status.idle": "2022-04-15T11:31:32.059117Z",
     "shell.execute_reply": "2022-04-15T11:31:32.058318Z"
    },
    "papermill": {
     "duration": 0.239511,
     "end_time": "2022-04-15T11:31:32.061517",
     "exception": false,
     "start_time": "2022-04-15T11:31:31.822006",
     "status": "completed"
    },
    "tags": []
   },
   "outputs": [
    {
     "data": {
      "text/plain": [
       "<AxesSubplot:xlabel='Transported', ylabel='Age'>"
      ]
     },
     "execution_count": 11,
     "metadata": {},
     "output_type": "execute_result"
    },
    {
     "data": {
      "image/png": "[encoded data removed]",
      "text/plain": [
       "<Figure size 432x288 with 1 Axes>"
      ]
     },
     "metadata": {},
     "output_type": "display_data"
    }
   ],
   "source": [
    "sns.violinplot(data = df, x = \"Transported\", y = \"Age\")"
   ]
  },
  {
   "cell_type": "code",
   "execution_count": 12,
   "id": "82239c3f",
   "metadata": {
    "execution": {
     "iopub.execute_input": "2022-04-15T11:31:32.177687Z",
     "iopub.status.busy": "2022-04-15T11:31:32.176910Z",
     "iopub.status.idle": "2022-04-15T11:31:32.202486Z",
     "shell.execute_reply": "2022-04-15T11:31:32.201632Z"
    },
    "papermill": {
     "duration": 0.086177,
     "end_time": "2022-04-15T11:31:32.204887",
     "exception": false,
     "start_time": "2022-04-15T11:31:32.118710",
     "status": "completed"
    },
    "tags": []
   },
   "outputs": [
    {
     "name": "stdout",
     "output_type": "stream",
     "text": [
      "<class 'pandas.core.frame.DataFrame'>\n",
      "RangeIndex: 8693 entries, 0 to 8692\n",
      "Data columns (total 16 columns):\n",
      " #   Column        Non-Null Count  Dtype  \n",
      "---  ------        --------------  -----  \n",
      " 0   PassengerId   8693 non-null   object \n",
      " 1   HomePlanet    8492 non-null   object \n",
      " 2   CryoSleep     8476 non-null   object \n",
      " 3   Cabin         8494 non-null   object \n",
      " 4   Destination   8511 non-null   object \n",
      " 5   Age           8514 non-null   float64\n",
      " 6   VIP           8490 non-null   object \n",
      " 7   RoomService   8512 non-null   float64\n",
      " 8   FoodCourt     8510 non-null   float64\n",
      " 9   ShoppingMall  8485 non-null   float64\n",
      " 10  Spa           8510 non-null   float64\n",
      " 11  VRDeck        8505 non-null   float64\n",
      " 12  Name          8493 non-null   object \n",
      " 13  Transported   8693 non-null   bool   \n",
      " 14  NumGroups     8693 non-null   object \n",
      " 15  GroupNumber   8693 non-null   object \n",
      "dtypes: bool(1), float64(6), object(9)\n",
      "memory usage: 1.0+ MB\n"
     ]
    }
   ],
   "source": [
    "df.info()"
   ]
  },
  {
   "cell_type": "code",
   "execution_count": 13,
   "id": "9884f57c",
   "metadata": {
    "execution": {
     "iopub.execute_input": "2022-04-15T11:31:32.321494Z",
     "iopub.status.busy": "2022-04-15T11:31:32.321186Z",
     "iopub.status.idle": "2022-04-15T11:31:32.342812Z",
     "shell.execute_reply": "2022-04-15T11:31:32.341969Z"
    },
    "papermill": {
     "duration": 0.082702,
     "end_time": "2022-04-15T11:31:32.345188",
     "exception": false,
     "start_time": "2022-04-15T11:31:32.262486",
     "status": "completed"
    },
    "tags": []
   },
   "outputs": [
    {
     "data": {
      "text/html": [
       "<div>\n",
       "<style scoped>\n",
       "    .dataframe tbody tr th:only-of-type {\n",
       "        vertical-align: middle;\n",
       "    }\n",
       "\n",
       "    .dataframe tbody tr th {\n",
       "        vertical-align: top;\n",
       "    }\n",
       "\n",
       "    .dataframe thead th {\n",
       "        text-align: right;\n",
       "    }\n",
       "</style>\n",
       "<table border=\"1\" class=\"dataframe\">\n",
       "  <thead>\n",
       "    <tr style=\"text-align: right;\">\n",
       "      <th></th>\n",
       "      <th>PassengerId</th>\n",
       "      <th>HomePlanet</th>\n",
       "      <th>CryoSleep</th>\n",
       "      <th>Cabin</th>\n",
       "      <th>Destination</th>\n",
       "      <th>Age</th>\n",
       "      <th>VIP</th>\n",
       "      <th>RoomService</th>\n",
       "      <th>FoodCourt</th>\n",
       "      <th>ShoppingMall</th>\n",
       "      <th>Spa</th>\n",
       "      <th>VRDeck</th>\n",
       "      <th>Name</th>\n",
       "      <th>Transported</th>\n",
       "      <th>NumGroups</th>\n",
       "      <th>GroupNumber</th>\n",
       "    </tr>\n",
       "  </thead>\n",
       "  <tbody>\n",
       "    <tr>\n",
       "      <th>0</th>\n",
       "      <td>0001_01</td>\n",
       "      <td>Europa</td>\n",
       "      <td>False</td>\n",
       "      <td>B/0/P</td>\n",
       "      <td>TRAPPIST-1e</td>\n",
       "      <td>39.0</td>\n",
       "      <td>False</td>\n",
       "      <td>0.0</td>\n",
       "      <td>0.0</td>\n",
       "      <td>0.0</td>\n",
       "      <td>0.0</td>\n",
       "      <td>0.0</td>\n",
       "      <td>Maham Ofracculy</td>\n",
       "      <td>False</td>\n",
       "      <td>01</td>\n",
       "      <td>0001</td>\n",
       "    </tr>\n",
       "    <tr>\n",
       "      <th>1</th>\n",
       "      <td>0002_01</td>\n",
       "      <td>Earth</td>\n",
       "      <td>False</td>\n",
       "      <td>F/0/S</td>\n",
       "      <td>TRAPPIST-1e</td>\n",
       "      <td>24.0</td>\n",
       "      <td>False</td>\n",
       "      <td>109.0</td>\n",
       "      <td>9.0</td>\n",
       "      <td>25.0</td>\n",
       "      <td>549.0</td>\n",
       "      <td>44.0</td>\n",
       "      <td>Juanna Vines</td>\n",
       "      <td>True</td>\n",
       "      <td>01</td>\n",
       "      <td>0002</td>\n",
       "    </tr>\n",
       "    <tr>\n",
       "      <th>2</th>\n",
       "      <td>0003_01</td>\n",
       "      <td>Europa</td>\n",
       "      <td>False</td>\n",
       "      <td>A/0/S</td>\n",
       "      <td>TRAPPIST-1e</td>\n",
       "      <td>58.0</td>\n",
       "      <td>True</td>\n",
       "      <td>43.0</td>\n",
       "      <td>3576.0</td>\n",
       "      <td>0.0</td>\n",
       "      <td>6715.0</td>\n",
       "      <td>49.0</td>\n",
       "      <td>Altark Susent</td>\n",
       "      <td>False</td>\n",
       "      <td>01</td>\n",
       "      <td>0003</td>\n",
       "    </tr>\n",
       "    <tr>\n",
       "      <th>3</th>\n",
       "      <td>0003_02</td>\n",
       "      <td>Europa</td>\n",
       "      <td>False</td>\n",
       "      <td>A/0/S</td>\n",
       "      <td>TRAPPIST-1e</td>\n",
       "      <td>33.0</td>\n",
       "      <td>False</td>\n",
       "      <td>0.0</td>\n",
       "      <td>1283.0</td>\n",
       "      <td>371.0</td>\n",
       "      <td>3329.0</td>\n",
       "      <td>193.0</td>\n",
       "      <td>Solam Susent</td>\n",
       "      <td>False</td>\n",
       "      <td>02</td>\n",
       "      <td>0003</td>\n",
       "    </tr>\n",
       "    <tr>\n",
       "      <th>4</th>\n",
       "      <td>0004_01</td>\n",
       "      <td>Earth</td>\n",
       "      <td>False</td>\n",
       "      <td>F/1/S</td>\n",
       "      <td>TRAPPIST-1e</td>\n",
       "      <td>16.0</td>\n",
       "      <td>False</td>\n",
       "      <td>303.0</td>\n",
       "      <td>70.0</td>\n",
       "      <td>151.0</td>\n",
       "      <td>565.0</td>\n",
       "      <td>2.0</td>\n",
       "      <td>Willy Santantines</td>\n",
       "      <td>True</td>\n",
       "      <td>01</td>\n",
       "      <td>0004</td>\n",
       "    </tr>\n",
       "  </tbody>\n",
       "</table>\n",
       "</div>"
      ],
      "text/plain": [
       "  PassengerId HomePlanet CryoSleep  Cabin  Destination   Age    VIP  \\\n",
       "0     0001_01     Europa     False  B/0/P  TRAPPIST-1e  39.0  False   \n",
       "1     0002_01      Earth     False  F/0/S  TRAPPIST-1e  24.0  False   \n",
       "2     0003_01     Europa     False  A/0/S  TRAPPIST-1e  58.0   True   \n",
       "3     0003_02     Europa     False  A/0/S  TRAPPIST-1e  33.0  False   \n",
       "4     0004_01      Earth     False  F/1/S  TRAPPIST-1e  16.0  False   \n",
       "\n",
       "   RoomService  FoodCourt  ShoppingMall     Spa  VRDeck               Name  \\\n",
       "0          0.0        0.0           0.0     0.0     0.0    Maham Ofracculy   \n",
       "1        109.0        9.0          25.0   549.0    44.0       Juanna Vines   \n",
       "2         43.0     3576.0           0.0  6715.0    49.0      Altark Susent   \n",
       "3          0.0     1283.0         371.0  3329.0   193.0       Solam Susent   \n",
       "4        303.0       70.0         151.0   565.0     2.0  Willy Santantines   \n",
       "\n",
       "   Transported NumGroups GroupNumber  \n",
       "0        False        01        0001  \n",
       "1         True        01        0002  \n",
       "2        False        01        0003  \n",
       "3        False        02        0003  \n",
       "4         True        01        0004  "
      ]
     },
     "execution_count": 13,
     "metadata": {},
     "output_type": "execute_result"
    }
   ],
   "source": [
    "df.head()"
   ]
  },
  {
   "cell_type": "code",
   "execution_count": 14,
   "id": "0334520e",
   "metadata": {
    "execution": {
     "iopub.execute_input": "2022-04-15T11:31:32.463773Z",
     "iopub.status.busy": "2022-04-15T11:31:32.463221Z",
     "iopub.status.idle": "2022-04-15T11:31:32.471638Z",
     "shell.execute_reply": "2022-04-15T11:31:32.470877Z"
    },
    "papermill": {
     "duration": 0.070027,
     "end_time": "2022-04-15T11:31:32.473596",
     "exception": false,
     "start_time": "2022-04-15T11:31:32.403569",
     "status": "completed"
    },
    "tags": []
   },
   "outputs": [
    {
     "data": {
      "text/plain": [
       "TRAPPIST-1e      5915\n",
       "55 Cancri e      1800\n",
       "PSO J318.5-22     796\n",
       "Name: Destination, dtype: int64"
      ]
     },
     "execution_count": 14,
     "metadata": {},
     "output_type": "execute_result"
    }
   ],
   "source": [
    "df[\"Destination\"].value_counts()"
   ]
  },
  {
   "cell_type": "code",
   "execution_count": 15,
   "id": "8d2ea2e8",
   "metadata": {
    "execution": {
     "iopub.execute_input": "2022-04-15T11:31:32.592574Z",
     "iopub.status.busy": "2022-04-15T11:31:32.592282Z",
     "iopub.status.idle": "2022-04-15T11:31:33.113595Z",
     "shell.execute_reply": "2022-04-15T11:31:33.112726Z"
    },
    "papermill": {
     "duration": 0.583539,
     "end_time": "2022-04-15T11:31:33.115845",
     "exception": false,
     "start_time": "2022-04-15T11:31:32.532306",
     "status": "completed"
    },
    "tags": []
   },
   "outputs": [
    {
     "data": {
      "text/plain": [
       "<AxesSubplot:>"
      ]
     },
     "execution_count": 15,
     "metadata": {},
     "output_type": "execute_result"
    },
    {
     "data": {
      "image/png": "[encoded data removed]",
      "text/plain": [
       "<Figure size 720x576 with 2 Axes>"
      ]
     },
     "metadata": {},
     "output_type": "display_data"
    }
   ],
   "source": [
    "plt.figure(figsize = (10, 8))\n",
    "sns.heatmap(data = df.isnull(), yticklabels = False)"
   ]
  },
  {
   "cell_type": "code",
   "execution_count": 16,
   "id": "a4669c21",
   "metadata": {
    "execution": {
     "iopub.execute_input": "2022-04-15T11:31:33.238796Z",
     "iopub.status.busy": "2022-04-15T11:31:33.238522Z",
     "iopub.status.idle": "2022-04-15T11:31:33.424752Z",
     "shell.execute_reply": "2022-04-15T11:31:33.424168Z"
    },
    "papermill": {
     "duration": 0.250064,
     "end_time": "2022-04-15T11:31:33.426665",
     "exception": false,
     "start_time": "2022-04-15T11:31:33.176601",
     "status": "completed"
    },
    "tags": []
   },
   "outputs": [
    {
     "data": {
      "text/plain": [
       "<AxesSubplot:xlabel='Transported', ylabel='count'>"
      ]
     },
     "execution_count": 16,
     "metadata": {},
     "output_type": "execute_result"
    },
    {
     "data": {
      "image/png": "[encoded data removed]",
      "text/plain": [
       "<Figure size 432x288 with 1 Axes>"
      ]
     },
     "metadata": {},
     "output_type": "display_data"
    }
   ],
   "source": [
    "sns.countplot(x = \"Transported\" , data = df, hue = \"HomePlanet\")"
   ]
  },
  {
   "cell_type": "code",
   "execution_count": 17,
   "id": "7bc85ed9",
   "metadata": {
    "execution": {
     "iopub.execute_input": "2022-04-15T11:31:33.551343Z",
     "iopub.status.busy": "2022-04-15T11:31:33.550795Z",
     "iopub.status.idle": "2022-04-15T11:31:33.732361Z",
     "shell.execute_reply": "2022-04-15T11:31:33.731722Z"
    },
    "papermill": {
     "duration": 0.246497,
     "end_time": "2022-04-15T11:31:33.734361",
     "exception": false,
     "start_time": "2022-04-15T11:31:33.487864",
     "status": "completed"
    },
    "tags": []
   },
   "outputs": [
    {
     "data": {
      "text/plain": [
       "<AxesSubplot:xlabel='Transported', ylabel='count'>"
      ]
     },
     "execution_count": 17,
     "metadata": {},
     "output_type": "execute_result"
    },
    {
     "data": {
      "image/png": "[encoded data removed]",
      "text/plain": [
       "<Figure size 432x288 with 1 Axes>"
      ]
     },
     "metadata": {},
     "output_type": "display_data"
    }
   ],
   "source": [
    "sns.countplot(x = \"Transported\" , data = df, hue = \"CryoSleep\")"
   ]
  },
  {
   "cell_type": "code",
   "execution_count": 18,
   "id": "f8b19531",
   "metadata": {
    "execution": {
     "iopub.execute_input": "2022-04-15T11:31:33.862243Z",
     "iopub.status.busy": "2022-04-15T11:31:33.861723Z",
     "iopub.status.idle": "2022-04-15T11:31:34.254624Z",
     "shell.execute_reply": "2022-04-15T11:31:34.254006Z"
    },
    "papermill": {
     "duration": 0.460008,
     "end_time": "2022-04-15T11:31:34.256626",
     "exception": false,
     "start_time": "2022-04-15T11:31:33.796618",
     "status": "completed"
    },
    "tags": []
   },
   "outputs": [
    {
     "data": {
      "text/plain": [
       "<seaborn.axisgrid.FacetGrid at 0x7f8302237350>"
      ]
     },
     "execution_count": 18,
     "metadata": {},
     "output_type": "execute_result"
    },
    {
     "data": {
      "image/png": "[encoded data removed]",
      "text/plain": [
       "<Figure size 360x360 with 1 Axes>"
      ]
     },
     "metadata": {},
     "output_type": "display_data"
    }
   ],
   "source": [
    "sns.displot(data = df[\"Age\"], bins = 30)"
   ]
  },
  {
   "cell_type": "code",
   "execution_count": 19,
   "id": "f8f9504a",
   "metadata": {
    "execution": {
     "iopub.execute_input": "2022-04-15T11:31:34.387064Z",
     "iopub.status.busy": "2022-04-15T11:31:34.386521Z",
     "iopub.status.idle": "2022-04-15T11:31:34.706240Z",
     "shell.execute_reply": "2022-04-15T11:31:34.705428Z"
    },
    "papermill": {
     "duration": 0.387764,
     "end_time": "2022-04-15T11:31:34.708379",
     "exception": false,
     "start_time": "2022-04-15T11:31:34.320615",
     "status": "completed"
    },
    "tags": []
   },
   "outputs": [
    {
     "data": {
      "text/plain": [
       "<AxesSubplot:xlabel='NumGroups', ylabel='count'>"
      ]
     },
     "execution_count": 19,
     "metadata": {},
     "output_type": "execute_result"
    },
    {
     "data": {
      "image/png": "[encoded data removed]",
      "text/plain": [
       "<Figure size 432x288 with 1 Axes>"
      ]
     },
     "metadata": {},
     "output_type": "display_data"
    }
   ],
   "source": [
    "sns.countplot(x = \"NumGroups\", data = df)"
   ]
  },
  {
   "cell_type": "code",
   "execution_count": 20,
   "id": "bfe6bff6",
   "metadata": {
    "execution": {
     "iopub.execute_input": "2022-04-15T11:31:34.840620Z",
     "iopub.status.busy": "2022-04-15T11:31:34.840338Z",
     "iopub.status.idle": "2022-04-15T11:31:34.846567Z",
     "shell.execute_reply": "2022-04-15T11:31:34.845871Z"
    },
    "papermill": {
     "duration": 0.074542,
     "end_time": "2022-04-15T11:31:34.848614",
     "exception": false,
     "start_time": "2022-04-15T11:31:34.774072",
     "status": "completed"
    },
    "tags": []
   },
   "outputs": [],
   "source": [
    "df[\"TotalSum\"] = df[\"RoomService\"] + df[\"FoodCourt\"] + df[\"ShoppingMall\"] + df[\"Spa\"] + df[\"VRDeck\"]"
   ]
  },
  {
   "cell_type": "code",
   "execution_count": 21,
   "id": "e7e65434",
   "metadata": {
    "execution": {
     "iopub.execute_input": "2022-04-15T11:31:34.984343Z",
     "iopub.status.busy": "2022-04-15T11:31:34.983941Z",
     "iopub.status.idle": "2022-04-15T11:31:35.005874Z",
     "shell.execute_reply": "2022-04-15T11:31:35.005038Z"
    },
    "papermill": {
     "duration": 0.092014,
     "end_time": "2022-04-15T11:31:35.007860",
     "exception": false,
     "start_time": "2022-04-15T11:31:34.915846",
     "status": "completed"
    },
    "tags": []
   },
   "outputs": [
    {
     "data": {
      "text/html": [
       "<div>\n",
       "<style scoped>\n",
       "    .dataframe tbody tr th:only-of-type {\n",
       "        vertical-align: middle;\n",
       "    }\n",
       "\n",
       "    .dataframe tbody tr th {\n",
       "        vertical-align: top;\n",
       "    }\n",
       "\n",
       "    .dataframe thead th {\n",
       "        text-align: right;\n",
       "    }\n",
       "</style>\n",
       "<table border=\"1\" class=\"dataframe\">\n",
       "  <thead>\n",
       "    <tr style=\"text-align: right;\">\n",
       "      <th></th>\n",
       "      <th>PassengerId</th>\n",
       "      <th>HomePlanet</th>\n",
       "      <th>CryoSleep</th>\n",
       "      <th>Cabin</th>\n",
       "      <th>Destination</th>\n",
       "      <th>Age</th>\n",
       "      <th>VIP</th>\n",
       "      <th>RoomService</th>\n",
       "      <th>FoodCourt</th>\n",
       "      <th>ShoppingMall</th>\n",
       "      <th>Spa</th>\n",
       "      <th>VRDeck</th>\n",
       "      <th>Name</th>\n",
       "      <th>Transported</th>\n",
       "      <th>NumGroups</th>\n",
       "      <th>GroupNumber</th>\n",
       "      <th>TotalSum</th>\n",
       "    </tr>\n",
       "  </thead>\n",
       "  <tbody>\n",
       "    <tr>\n",
       "      <th>0</th>\n",
       "      <td>0001_01</td>\n",
       "      <td>Europa</td>\n",
       "      <td>False</td>\n",
       "      <td>B/0/P</td>\n",
       "      <td>TRAPPIST-1e</td>\n",
       "      <td>39.0</td>\n",
       "      <td>False</td>\n",
       "      <td>0.0</td>\n",
       "      <td>0.0</td>\n",
       "      <td>0.0</td>\n",
       "      <td>0.0</td>\n",
       "      <td>0.0</td>\n",
       "      <td>Maham Ofracculy</td>\n",
       "      <td>False</td>\n",
       "      <td>01</td>\n",
       "      <td>0001</td>\n",
       "      <td>0.0</td>\n",
       "    </tr>\n",
       "    <tr>\n",
       "      <th>1</th>\n",
       "      <td>0002_01</td>\n",
       "      <td>Earth</td>\n",
       "      <td>False</td>\n",
       "      <td>F/0/S</td>\n",
       "      <td>TRAPPIST-1e</td>\n",
       "      <td>24.0</td>\n",
       "      <td>False</td>\n",
       "      <td>109.0</td>\n",
       "      <td>9.0</td>\n",
       "      <td>25.0</td>\n",
       "      <td>549.0</td>\n",
       "      <td>44.0</td>\n",
       "      <td>Juanna Vines</td>\n",
       "      <td>True</td>\n",
       "      <td>01</td>\n",
       "      <td>0002</td>\n",
       "      <td>736.0</td>\n",
       "    </tr>\n",
       "    <tr>\n",
       "      <th>2</th>\n",
       "      <td>0003_01</td>\n",
       "      <td>Europa</td>\n",
       "      <td>False</td>\n",
       "      <td>A/0/S</td>\n",
       "      <td>TRAPPIST-1e</td>\n",
       "      <td>58.0</td>\n",
       "      <td>True</td>\n",
       "      <td>43.0</td>\n",
       "      <td>3576.0</td>\n",
       "      <td>0.0</td>\n",
       "      <td>6715.0</td>\n",
       "      <td>49.0</td>\n",
       "      <td>Altark Susent</td>\n",
       "      <td>False</td>\n",
       "      <td>01</td>\n",
       "      <td>0003</td>\n",
       "      <td>10383.0</td>\n",
       "    </tr>\n",
       "    <tr>\n",
       "      <th>3</th>\n",
       "      <td>0003_02</td>\n",
       "      <td>Europa</td>\n",
       "      <td>False</td>\n",
       "      <td>A/0/S</td>\n",
       "      <td>TRAPPIST-1e</td>\n",
       "      <td>33.0</td>\n",
       "      <td>False</td>\n",
       "      <td>0.0</td>\n",
       "      <td>1283.0</td>\n",
       "      <td>371.0</td>\n",
       "      <td>3329.0</td>\n",
       "      <td>193.0</td>\n",
       "      <td>Solam Susent</td>\n",
       "      <td>False</td>\n",
       "      <td>02</td>\n",
       "      <td>0003</td>\n",
       "      <td>5176.0</td>\n",
       "    </tr>\n",
       "    <tr>\n",
       "      <th>4</th>\n",
       "      <td>0004_01</td>\n",
       "      <td>Earth</td>\n",
       "      <td>False</td>\n",
       "      <td>F/1/S</td>\n",
       "      <td>TRAPPIST-1e</td>\n",
       "      <td>16.0</td>\n",
       "      <td>False</td>\n",
       "      <td>303.0</td>\n",
       "      <td>70.0</td>\n",
       "      <td>151.0</td>\n",
       "      <td>565.0</td>\n",
       "      <td>2.0</td>\n",
       "      <td>Willy Santantines</td>\n",
       "      <td>True</td>\n",
       "      <td>01</td>\n",
       "      <td>0004</td>\n",
       "      <td>1091.0</td>\n",
       "    </tr>\n",
       "  </tbody>\n",
       "</table>\n",
       "</div>"
      ],
      "text/plain": [
       "  PassengerId HomePlanet CryoSleep  Cabin  Destination   Age    VIP  \\\n",
       "0     0001_01     Europa     False  B/0/P  TRAPPIST-1e  39.0  False   \n",
       "1     0002_01      Earth     False  F/0/S  TRAPPIST-1e  24.0  False   \n",
       "2     0003_01     Europa     False  A/0/S  TRAPPIST-1e  58.0   True   \n",
       "3     0003_02     Europa     False  A/0/S  TRAPPIST-1e  33.0  False   \n",
       "4     0004_01      Earth     False  F/1/S  TRAPPIST-1e  16.0  False   \n",
       "\n",
       "   RoomService  FoodCourt  ShoppingMall     Spa  VRDeck               Name  \\\n",
       "0          0.0        0.0           0.0     0.0     0.0    Maham Ofracculy   \n",
       "1        109.0        9.0          25.0   549.0    44.0       Juanna Vines   \n",
       "2         43.0     3576.0           0.0  6715.0    49.0      Altark Susent   \n",
       "3          0.0     1283.0         371.0  3329.0   193.0       Solam Susent   \n",
       "4        303.0       70.0         151.0   565.0     2.0  Willy Santantines   \n",
       "\n",
       "   Transported NumGroups GroupNumber  TotalSum  \n",
       "0        False        01        0001       0.0  \n",
       "1         True        01        0002     736.0  \n",
       "2        False        01        0003   10383.0  \n",
       "3        False        02        0003    5176.0  \n",
       "4         True        01        0004    1091.0  "
      ]
     },
     "execution_count": 21,
     "metadata": {},
     "output_type": "execute_result"
    }
   ],
   "source": [
    "df.head()"
   ]
  },
  {
   "cell_type": "code",
   "execution_count": 22,
   "id": "52ed6e56",
   "metadata": {
    "execution": {
     "iopub.execute_input": "2022-04-15T11:31:35.140695Z",
     "iopub.status.busy": "2022-04-15T11:31:35.140224Z",
     "iopub.status.idle": "2022-04-15T11:31:35.763071Z",
     "shell.execute_reply": "2022-04-15T11:31:35.762204Z"
    },
    "papermill": {
     "duration": 0.693234,
     "end_time": "2022-04-15T11:31:35.766496",
     "exception": false,
     "start_time": "2022-04-15T11:31:35.073262",
     "status": "completed"
    },
    "tags": []
   },
   "outputs": [
    {
     "data": {
      "text/plain": [
       "<AxesSubplot:xlabel='Age', ylabel='TotalSum'>"
      ]
     },
     "execution_count": 22,
     "metadata": {},
     "output_type": "execute_result"
    },
    {
     "data": {
      "image/png": "[encoded data removed]",
      "text/plain": [
       "<Figure size 864x720 with 1 Axes>"
      ]
     },
     "metadata": {},
     "output_type": "display_data"
    }
   ],
   "source": [
    "plt.figure(figsize = (12, 10))\n",
    "sns.scatterplot(data = df[df[\"TotalSum\"] > 0], x = \"Age\", y = \"TotalSum\", hue = \"VIP\")"
   ]
  },
  {
   "cell_type": "code",
   "execution_count": 23,
   "id": "10e42608",
   "metadata": {
    "execution": {
     "iopub.execute_input": "2022-04-15T11:31:35.909197Z",
     "iopub.status.busy": "2022-04-15T11:31:35.908683Z",
     "iopub.status.idle": "2022-04-15T11:31:35.940859Z",
     "shell.execute_reply": "2022-04-15T11:31:35.940007Z"
    },
    "papermill": {
     "duration": 0.105807,
     "end_time": "2022-04-15T11:31:35.942879",
     "exception": false,
     "start_time": "2022-04-15T11:31:35.837072",
     "status": "completed"
    },
    "tags": []
   },
   "outputs": [
    {
     "data": {
      "text/html": [
       "<div>\n",
       "<style scoped>\n",
       "    .dataframe tbody tr th:only-of-type {\n",
       "        vertical-align: middle;\n",
       "    }\n",
       "\n",
       "    .dataframe tbody tr th {\n",
       "        vertical-align: top;\n",
       "    }\n",
       "\n",
       "    .dataframe thead th {\n",
       "        text-align: right;\n",
       "    }\n",
       "</style>\n",
       "<table border=\"1\" class=\"dataframe\">\n",
       "  <thead>\n",
       "    <tr style=\"text-align: right;\">\n",
       "      <th></th>\n",
       "      <th>PassengerId</th>\n",
       "      <th>HomePlanet</th>\n",
       "      <th>CryoSleep</th>\n",
       "      <th>Cabin</th>\n",
       "      <th>Destination</th>\n",
       "      <th>Age</th>\n",
       "      <th>VIP</th>\n",
       "      <th>RoomService</th>\n",
       "      <th>FoodCourt</th>\n",
       "      <th>ShoppingMall</th>\n",
       "      <th>Spa</th>\n",
       "      <th>VRDeck</th>\n",
       "      <th>Name</th>\n",
       "      <th>Transported</th>\n",
       "      <th>NumGroups</th>\n",
       "      <th>GroupNumber</th>\n",
       "      <th>TotalSum</th>\n",
       "    </tr>\n",
       "  </thead>\n",
       "  <tbody>\n",
       "    <tr>\n",
       "      <th>50</th>\n",
       "      <td>0052_01</td>\n",
       "      <td>Earth</td>\n",
       "      <td>False</td>\n",
       "      <td>G/6/S</td>\n",
       "      <td>TRAPPIST-1e</td>\n",
       "      <td>NaN</td>\n",
       "      <td>False</td>\n",
       "      <td>4.0</td>\n",
       "      <td>0.0</td>\n",
       "      <td>2.0</td>\n",
       "      <td>4683.0</td>\n",
       "      <td>0.0</td>\n",
       "      <td>Elaney Hubbarton</td>\n",
       "      <td>False</td>\n",
       "      <td>01</td>\n",
       "      <td>0052</td>\n",
       "      <td>4689.0</td>\n",
       "    </tr>\n",
       "    <tr>\n",
       "      <th>64</th>\n",
       "      <td>0068_01</td>\n",
       "      <td>Mars</td>\n",
       "      <td>False</td>\n",
       "      <td>E/4/S</td>\n",
       "      <td>TRAPPIST-1e</td>\n",
       "      <td>NaN</td>\n",
       "      <td>False</td>\n",
       "      <td>793.0</td>\n",
       "      <td>0.0</td>\n",
       "      <td>2.0</td>\n",
       "      <td>253.0</td>\n",
       "      <td>0.0</td>\n",
       "      <td>Cinst Binie</td>\n",
       "      <td>False</td>\n",
       "      <td>01</td>\n",
       "      <td>0068</td>\n",
       "      <td>1048.0</td>\n",
       "    </tr>\n",
       "    <tr>\n",
       "      <th>137</th>\n",
       "      <td>0149_01</td>\n",
       "      <td>Earth</td>\n",
       "      <td>True</td>\n",
       "      <td>G/27/S</td>\n",
       "      <td>55 Cancri e</td>\n",
       "      <td>NaN</td>\n",
       "      <td>False</td>\n",
       "      <td>0.0</td>\n",
       "      <td>0.0</td>\n",
       "      <td>0.0</td>\n",
       "      <td>0.0</td>\n",
       "      <td>0.0</td>\n",
       "      <td>Billya Hubbarrison</td>\n",
       "      <td>True</td>\n",
       "      <td>01</td>\n",
       "      <td>0149</td>\n",
       "      <td>0.0</td>\n",
       "    </tr>\n",
       "    <tr>\n",
       "      <th>181</th>\n",
       "      <td>0202_02</td>\n",
       "      <td>Europa</td>\n",
       "      <td>False</td>\n",
       "      <td>A/2/P</td>\n",
       "      <td>55 Cancri e</td>\n",
       "      <td>NaN</td>\n",
       "      <td>False</td>\n",
       "      <td>0.0</td>\n",
       "      <td>2433.0</td>\n",
       "      <td>NaN</td>\n",
       "      <td>878.0</td>\n",
       "      <td>443.0</td>\n",
       "      <td>Vegas Embleng</td>\n",
       "      <td>True</td>\n",
       "      <td>02</td>\n",
       "      <td>0202</td>\n",
       "      <td>NaN</td>\n",
       "    </tr>\n",
       "    <tr>\n",
       "      <th>184</th>\n",
       "      <td>0206_01</td>\n",
       "      <td>Europa</td>\n",
       "      <td>False</td>\n",
       "      <td>C/9/S</td>\n",
       "      <td>55 Cancri e</td>\n",
       "      <td>NaN</td>\n",
       "      <td>False</td>\n",
       "      <td>2.0</td>\n",
       "      <td>1720.0</td>\n",
       "      <td>12.0</td>\n",
       "      <td>1125.0</td>\n",
       "      <td>122.0</td>\n",
       "      <td>Nuson Brugashed</td>\n",
       "      <td>True</td>\n",
       "      <td>01</td>\n",
       "      <td>0206</td>\n",
       "      <td>2981.0</td>\n",
       "    </tr>\n",
       "    <tr>\n",
       "      <th>...</th>\n",
       "      <td>...</td>\n",
       "      <td>...</td>\n",
       "      <td>...</td>\n",
       "      <td>...</td>\n",
       "      <td>...</td>\n",
       "      <td>...</td>\n",
       "      <td>...</td>\n",
       "      <td>...</td>\n",
       "      <td>...</td>\n",
       "      <td>...</td>\n",
       "      <td>...</td>\n",
       "      <td>...</td>\n",
       "      <td>...</td>\n",
       "      <td>...</td>\n",
       "      <td>...</td>\n",
       "      <td>...</td>\n",
       "      <td>...</td>\n",
       "    </tr>\n",
       "    <tr>\n",
       "      <th>8274</th>\n",
       "      <td>8835_01</td>\n",
       "      <td>Earth</td>\n",
       "      <td>True</td>\n",
       "      <td>G/1425/S</td>\n",
       "      <td>TRAPPIST-1e</td>\n",
       "      <td>NaN</td>\n",
       "      <td>False</td>\n",
       "      <td>0.0</td>\n",
       "      <td>0.0</td>\n",
       "      <td>0.0</td>\n",
       "      <td>0.0</td>\n",
       "      <td>0.0</td>\n",
       "      <td>Shalle Bartines</td>\n",
       "      <td>False</td>\n",
       "      <td>01</td>\n",
       "      <td>8835</td>\n",
       "      <td>0.0</td>\n",
       "    </tr>\n",
       "    <tr>\n",
       "      <th>8301</th>\n",
       "      <td>8862_03</td>\n",
       "      <td>Europa</td>\n",
       "      <td>True</td>\n",
       "      <td>C/329/S</td>\n",
       "      <td>TRAPPIST-1e</td>\n",
       "      <td>NaN</td>\n",
       "      <td>False</td>\n",
       "      <td>0.0</td>\n",
       "      <td>0.0</td>\n",
       "      <td>0.0</td>\n",
       "      <td>0.0</td>\n",
       "      <td>0.0</td>\n",
       "      <td>Alchib Myling</td>\n",
       "      <td>True</td>\n",
       "      <td>03</td>\n",
       "      <td>8862</td>\n",
       "      <td>0.0</td>\n",
       "    </tr>\n",
       "    <tr>\n",
       "      <th>8374</th>\n",
       "      <td>8956_04</td>\n",
       "      <td>Earth</td>\n",
       "      <td>False</td>\n",
       "      <td>G/1453/P</td>\n",
       "      <td>TRAPPIST-1e</td>\n",
       "      <td>NaN</td>\n",
       "      <td>False</td>\n",
       "      <td>194.0</td>\n",
       "      <td>1.0</td>\n",
       "      <td>10.0</td>\n",
       "      <td>629.0</td>\n",
       "      <td>0.0</td>\n",
       "      <td>Krisa Bonnondry</td>\n",
       "      <td>False</td>\n",
       "      <td>04</td>\n",
       "      <td>8956</td>\n",
       "      <td>834.0</td>\n",
       "    </tr>\n",
       "    <tr>\n",
       "      <th>8407</th>\n",
       "      <td>8988_01</td>\n",
       "      <td>Earth</td>\n",
       "      <td>True</td>\n",
       "      <td>G/1448/S</td>\n",
       "      <td>TRAPPIST-1e</td>\n",
       "      <td>NaN</td>\n",
       "      <td>False</td>\n",
       "      <td>0.0</td>\n",
       "      <td>0.0</td>\n",
       "      <td>0.0</td>\n",
       "      <td>0.0</td>\n",
       "      <td>0.0</td>\n",
       "      <td>Maen Fowlesterez</td>\n",
       "      <td>True</td>\n",
       "      <td>01</td>\n",
       "      <td>8988</td>\n",
       "      <td>0.0</td>\n",
       "    </tr>\n",
       "    <tr>\n",
       "      <th>8557</th>\n",
       "      <td>9136_01</td>\n",
       "      <td>Earth</td>\n",
       "      <td>False</td>\n",
       "      <td>G/1471/S</td>\n",
       "      <td>TRAPPIST-1e</td>\n",
       "      <td>NaN</td>\n",
       "      <td>False</td>\n",
       "      <td>6.0</td>\n",
       "      <td>0.0</td>\n",
       "      <td>0.0</td>\n",
       "      <td>800.0</td>\n",
       "      <td>3.0</td>\n",
       "      <td>Sall Hestes</td>\n",
       "      <td>False</td>\n",
       "      <td>01</td>\n",
       "      <td>9136</td>\n",
       "      <td>809.0</td>\n",
       "    </tr>\n",
       "  </tbody>\n",
       "</table>\n",
       "<p>179 rows × 17 columns</p>\n",
       "</div>"
      ],
      "text/plain": [
       "     PassengerId HomePlanet CryoSleep     Cabin  Destination  Age    VIP  \\\n",
       "50       0052_01      Earth     False     G/6/S  TRAPPIST-1e  NaN  False   \n",
       "64       0068_01       Mars     False     E/4/S  TRAPPIST-1e  NaN  False   \n",
       "137      0149_01      Earth      True    G/27/S  55 Cancri e  NaN  False   \n",
       "181      0202_02     Europa     False     A/2/P  55 Cancri e  NaN  False   \n",
       "184      0206_01     Europa     False     C/9/S  55 Cancri e  NaN  False   \n",
       "...          ...        ...       ...       ...          ...  ...    ...   \n",
       "8274     8835_01      Earth      True  G/1425/S  TRAPPIST-1e  NaN  False   \n",
       "8301     8862_03     Europa      True   C/329/S  TRAPPIST-1e  NaN  False   \n",
       "8374     8956_04      Earth     False  G/1453/P  TRAPPIST-1e  NaN  False   \n",
       "8407     8988_01      Earth      True  G/1448/S  TRAPPIST-1e  NaN  False   \n",
       "8557     9136_01      Earth     False  G/1471/S  TRAPPIST-1e  NaN  False   \n",
       "\n",
       "      RoomService  FoodCourt  ShoppingMall     Spa  VRDeck  \\\n",
       "50            4.0        0.0           2.0  4683.0     0.0   \n",
       "64          793.0        0.0           2.0   253.0     0.0   \n",
       "137           0.0        0.0           0.0     0.0     0.0   \n",
       "181           0.0     2433.0           NaN   878.0   443.0   \n",
       "184           2.0     1720.0          12.0  1125.0   122.0   \n",
       "...           ...        ...           ...     ...     ...   \n",
       "8274          0.0        0.0           0.0     0.0     0.0   \n",
       "8301          0.0        0.0           0.0     0.0     0.0   \n",
       "8374        194.0        1.0          10.0   629.0     0.0   \n",
       "8407          0.0        0.0           0.0     0.0     0.0   \n",
       "8557          6.0        0.0           0.0   800.0     3.0   \n",
       "\n",
       "                    Name  Transported NumGroups GroupNumber  TotalSum  \n",
       "50      Elaney Hubbarton        False        01        0052    4689.0  \n",
       "64           Cinst Binie        False        01        0068    1048.0  \n",
       "137   Billya Hubbarrison         True        01        0149       0.0  \n",
       "181        Vegas Embleng         True        02        0202       NaN  \n",
       "184      Nuson Brugashed         True        01        0206    2981.0  \n",
       "...                  ...          ...       ...         ...       ...  \n",
       "8274     Shalle Bartines        False        01        8835       0.0  \n",
       "8301       Alchib Myling         True        03        8862       0.0  \n",
       "8374     Krisa Bonnondry        False        04        8956     834.0  \n",
       "8407    Maen Fowlesterez         True        01        8988       0.0  \n",
       "8557         Sall Hestes        False        01        9136     809.0  \n",
       "\n",
       "[179 rows x 17 columns]"
      ]
     },
     "execution_count": 23,
     "metadata": {},
     "output_type": "execute_result"
    }
   ],
   "source": [
    "df[pd.isnull(df[\"Age\"])]"
   ]
  },
  {
   "cell_type": "code",
   "execution_count": 24,
   "id": "35deb670",
   "metadata": {
    "execution": {
     "iopub.execute_input": "2022-04-15T11:31:36.088205Z",
     "iopub.status.busy": "2022-04-15T11:31:36.087574Z",
     "iopub.status.idle": "2022-04-15T11:31:36.576879Z",
     "shell.execute_reply": "2022-04-15T11:31:36.576042Z"
    },
    "papermill": {
     "duration": 0.56466,
     "end_time": "2022-04-15T11:31:36.578922",
     "exception": false,
     "start_time": "2022-04-15T11:31:36.014262",
     "status": "completed"
    },
    "tags": []
   },
   "outputs": [
    {
     "data": {
      "text/plain": [
       "<AxesSubplot:xlabel='Age', ylabel='count'>"
      ]
     },
     "execution_count": 24,
     "metadata": {},
     "output_type": "execute_result"
    },
    {
     "data": {
      "image/png": "[encoded data removed]",
      "text/plain": [
       "<Figure size 720x576 with 1 Axes>"
      ]
     },
     "metadata": {},
     "output_type": "display_data"
    }
   ],
   "source": [
    "plt.figure(figsize = (10, 8))\n",
    "sns.countplot(x = \"Age\", data = df[df[\"Age\"] < 20], hue = \"CryoSleep\")"
   ]
  },
  {
   "cell_type": "code",
   "execution_count": 25,
   "id": "59203e5a",
   "metadata": {
    "execution": {
     "iopub.execute_input": "2022-04-15T11:31:36.725579Z",
     "iopub.status.busy": "2022-04-15T11:31:36.725299Z",
     "iopub.status.idle": "2022-04-15T11:31:36.731115Z",
     "shell.execute_reply": "2022-04-15T11:31:36.730582Z"
    },
    "papermill": {
     "duration": 0.081346,
     "end_time": "2022-04-15T11:31:36.732763",
     "exception": false,
     "start_time": "2022-04-15T11:31:36.651417",
     "status": "completed"
    },
    "tags": []
   },
   "outputs": [
    {
     "data": {
      "text/plain": [
       "28.82793046746535"
      ]
     },
     "execution_count": 25,
     "metadata": {},
     "output_type": "execute_result"
    }
   ],
   "source": [
    "df[\"Age\"].mean()"
   ]
  },
  {
   "cell_type": "code",
   "execution_count": 26,
   "id": "5131c100",
   "metadata": {
    "execution": {
     "iopub.execute_input": "2022-04-15T11:31:36.880667Z",
     "iopub.status.busy": "2022-04-15T11:31:36.880106Z",
     "iopub.status.idle": "2022-04-15T11:31:36.884222Z",
     "shell.execute_reply": "2022-04-15T11:31:36.883601Z"
    },
    "papermill": {
     "duration": 0.080117,
     "end_time": "2022-04-15T11:31:36.886497",
     "exception": false,
     "start_time": "2022-04-15T11:31:36.806380",
     "status": "completed"
    },
    "tags": []
   },
   "outputs": [],
   "source": [
    "def impute_age(age): \n",
    "    if(pd.isnull(age)):\n",
    "        return 29\n",
    "    else:\n",
    "        return age    "
   ]
  },
  {
   "cell_type": "code",
   "execution_count": 27,
   "id": "b2b721c1",
   "metadata": {
    "execution": {
     "iopub.execute_input": "2022-04-15T11:31:37.036545Z",
     "iopub.status.busy": "2022-04-15T11:31:37.036041Z",
     "iopub.status.idle": "2022-04-15T11:31:37.056516Z",
     "shell.execute_reply": "2022-04-15T11:31:37.055646Z"
    },
    "papermill": {
     "duration": 0.097974,
     "end_time": "2022-04-15T11:31:37.058976",
     "exception": false,
     "start_time": "2022-04-15T11:31:36.961002",
     "status": "completed"
    },
    "tags": []
   },
   "outputs": [],
   "source": [
    "df[\"Age\"] = df[\"Age\"].apply(impute_age)\n",
    "test[\"Age\"] = test[\"Age\"].apply(impute_age)"
   ]
  },
  {
   "cell_type": "code",
   "execution_count": 28,
   "id": "f4f80abd",
   "metadata": {
    "execution": {
     "iopub.execute_input": "2022-04-15T11:31:37.207934Z",
     "iopub.status.busy": "2022-04-15T11:31:37.207386Z",
     "iopub.status.idle": "2022-04-15T11:31:37.803082Z",
     "shell.execute_reply": "2022-04-15T11:31:37.802230Z"
    },
    "papermill": {
     "duration": 0.672512,
     "end_time": "2022-04-15T11:31:37.805282",
     "exception": false,
     "start_time": "2022-04-15T11:31:37.132770",
     "status": "completed"
    },
    "tags": []
   },
   "outputs": [
    {
     "data": {
      "text/plain": [
       "<AxesSubplot:>"
      ]
     },
     "execution_count": 28,
     "metadata": {},
     "output_type": "execute_result"
    },
    {
     "data": {
      "image/png": "[encoded data removed]",
      "text/plain": [
       "<Figure size 720x576 with 2 Axes>"
      ]
     },
     "metadata": {},
     "output_type": "display_data"
    }
   ],
   "source": [
    "plt.figure(figsize = (10, 8))\n",
    "sns.heatmap(data = df.isnull(), yticklabels = False)"
   ]
  },
  {
   "cell_type": "code",
   "execution_count": 29,
   "id": "2291d143",
   "metadata": {
    "execution": {
     "iopub.execute_input": "2022-04-15T11:31:37.957964Z",
     "iopub.status.busy": "2022-04-15T11:31:37.956977Z",
     "iopub.status.idle": "2022-04-15T11:31:37.963213Z",
     "shell.execute_reply": "2022-04-15T11:31:37.962662Z"
    },
    "papermill": {
     "duration": 0.085513,
     "end_time": "2022-04-15T11:31:37.965086",
     "exception": false,
     "start_time": "2022-04-15T11:31:37.879573",
     "status": "completed"
    },
    "tags": []
   },
   "outputs": [],
   "source": [
    "destination = pd.get_dummies(df[\"Destination\"], drop_first = True)"
   ]
  },
  {
   "cell_type": "code",
   "execution_count": 30,
   "id": "30805782",
   "metadata": {
    "execution": {
     "iopub.execute_input": "2022-04-15T11:31:38.115274Z",
     "iopub.status.busy": "2022-04-15T11:31:38.114802Z",
     "iopub.status.idle": "2022-04-15T11:31:38.120308Z",
     "shell.execute_reply": "2022-04-15T11:31:38.119796Z"
    },
    "papermill": {
     "duration": 0.083452,
     "end_time": "2022-04-15T11:31:38.122163",
     "exception": false,
     "start_time": "2022-04-15T11:31:38.038711",
     "status": "completed"
    },
    "tags": []
   },
   "outputs": [],
   "source": [
    "home_planet = pd.get_dummies(df[\"HomePlanet\"], drop_first = True)"
   ]
  },
  {
   "cell_type": "code",
   "execution_count": 31,
   "id": "6313949e",
   "metadata": {
    "execution": {
     "iopub.execute_input": "2022-04-15T11:31:38.271820Z",
     "iopub.status.busy": "2022-04-15T11:31:38.271392Z",
     "iopub.status.idle": "2022-04-15T11:31:38.278638Z",
     "shell.execute_reply": "2022-04-15T11:31:38.277941Z"
    },
    "papermill": {
     "duration": 0.08433,
     "end_time": "2022-04-15T11:31:38.280579",
     "exception": false,
     "start_time": "2022-04-15T11:31:38.196249",
     "status": "completed"
    },
    "tags": []
   },
   "outputs": [],
   "source": [
    "df = pd.concat([df, destination, home_planet], axis = 1)"
   ]
  },
  {
   "cell_type": "code",
   "execution_count": 32,
   "id": "4e8d8a81",
   "metadata": {
    "execution": {
     "iopub.execute_input": "2022-04-15T11:31:38.430645Z",
     "iopub.status.busy": "2022-04-15T11:31:38.430209Z",
     "iopub.status.idle": "2022-04-15T11:31:38.438920Z",
     "shell.execute_reply": "2022-04-15T11:31:38.438299Z"
    },
    "papermill": {
     "duration": 0.086069,
     "end_time": "2022-04-15T11:31:38.440759",
     "exception": false,
     "start_time": "2022-04-15T11:31:38.354690",
     "status": "completed"
    },
    "tags": []
   },
   "outputs": [],
   "source": [
    "destination = pd.get_dummies(test[\"Destination\"], drop_first = True)\n",
    "home_planet = pd.get_dummies(test[\"HomePlanet\"], drop_first = True)\n",
    "test = pd.concat([test, destination, home_planet], axis = 1)"
   ]
  },
  {
   "cell_type": "code",
   "execution_count": 33,
   "id": "4f2063fa",
   "metadata": {
    "execution": {
     "iopub.execute_input": "2022-04-15T11:31:38.590784Z",
     "iopub.status.busy": "2022-04-15T11:31:38.590261Z",
     "iopub.status.idle": "2022-04-15T11:31:38.615197Z",
     "shell.execute_reply": "2022-04-15T11:31:38.614511Z"
    },
    "papermill": {
     "duration": 0.102268,
     "end_time": "2022-04-15T11:31:38.616968",
     "exception": false,
     "start_time": "2022-04-15T11:31:38.514700",
     "status": "completed"
    },
    "tags": []
   },
   "outputs": [
    {
     "data": {
      "text/html": [
       "<div>\n",
       "<style scoped>\n",
       "    .dataframe tbody tr th:only-of-type {\n",
       "        vertical-align: middle;\n",
       "    }\n",
       "\n",
       "    .dataframe tbody tr th {\n",
       "        vertical-align: top;\n",
       "    }\n",
       "\n",
       "    .dataframe thead th {\n",
       "        text-align: right;\n",
       "    }\n",
       "</style>\n",
       "<table border=\"1\" class=\"dataframe\">\n",
       "  <thead>\n",
       "    <tr style=\"text-align: right;\">\n",
       "      <th></th>\n",
       "      <th>PassengerId</th>\n",
       "      <th>HomePlanet</th>\n",
       "      <th>CryoSleep</th>\n",
       "      <th>Cabin</th>\n",
       "      <th>Destination</th>\n",
       "      <th>Age</th>\n",
       "      <th>VIP</th>\n",
       "      <th>RoomService</th>\n",
       "      <th>FoodCourt</th>\n",
       "      <th>ShoppingMall</th>\n",
       "      <th>...</th>\n",
       "      <th>VRDeck</th>\n",
       "      <th>Name</th>\n",
       "      <th>Transported</th>\n",
       "      <th>NumGroups</th>\n",
       "      <th>GroupNumber</th>\n",
       "      <th>TotalSum</th>\n",
       "      <th>PSO J318.5-22</th>\n",
       "      <th>TRAPPIST-1e</th>\n",
       "      <th>Europa</th>\n",
       "      <th>Mars</th>\n",
       "    </tr>\n",
       "  </thead>\n",
       "  <tbody>\n",
       "    <tr>\n",
       "      <th>0</th>\n",
       "      <td>0001_01</td>\n",
       "      <td>Europa</td>\n",
       "      <td>False</td>\n",
       "      <td>B/0/P</td>\n",
       "      <td>TRAPPIST-1e</td>\n",
       "      <td>39.0</td>\n",
       "      <td>False</td>\n",
       "      <td>0.0</td>\n",
       "      <td>0.0</td>\n",
       "      <td>0.0</td>\n",
       "      <td>...</td>\n",
       "      <td>0.0</td>\n",
       "      <td>Maham Ofracculy</td>\n",
       "      <td>False</td>\n",
       "      <td>01</td>\n",
       "      <td>0001</td>\n",
       "      <td>0.0</td>\n",
       "      <td>0</td>\n",
       "      <td>1</td>\n",
       "      <td>1</td>\n",
       "      <td>0</td>\n",
       "    </tr>\n",
       "    <tr>\n",
       "      <th>1</th>\n",
       "      <td>0002_01</td>\n",
       "      <td>Earth</td>\n",
       "      <td>False</td>\n",
       "      <td>F/0/S</td>\n",
       "      <td>TRAPPIST-1e</td>\n",
       "      <td>24.0</td>\n",
       "      <td>False</td>\n",
       "      <td>109.0</td>\n",
       "      <td>9.0</td>\n",
       "      <td>25.0</td>\n",
       "      <td>...</td>\n",
       "      <td>44.0</td>\n",
       "      <td>Juanna Vines</td>\n",
       "      <td>True</td>\n",
       "      <td>01</td>\n",
       "      <td>0002</td>\n",
       "      <td>736.0</td>\n",
       "      <td>0</td>\n",
       "      <td>1</td>\n",
       "      <td>0</td>\n",
       "      <td>0</td>\n",
       "    </tr>\n",
       "    <tr>\n",
       "      <th>2</th>\n",
       "      <td>0003_01</td>\n",
       "      <td>Europa</td>\n",
       "      <td>False</td>\n",
       "      <td>A/0/S</td>\n",
       "      <td>TRAPPIST-1e</td>\n",
       "      <td>58.0</td>\n",
       "      <td>True</td>\n",
       "      <td>43.0</td>\n",
       "      <td>3576.0</td>\n",
       "      <td>0.0</td>\n",
       "      <td>...</td>\n",
       "      <td>49.0</td>\n",
       "      <td>Altark Susent</td>\n",
       "      <td>False</td>\n",
       "      <td>01</td>\n",
       "      <td>0003</td>\n",
       "      <td>10383.0</td>\n",
       "      <td>0</td>\n",
       "      <td>1</td>\n",
       "      <td>1</td>\n",
       "      <td>0</td>\n",
       "    </tr>\n",
       "    <tr>\n",
       "      <th>3</th>\n",
       "      <td>0003_02</td>\n",
       "      <td>Europa</td>\n",
       "      <td>False</td>\n",
       "      <td>A/0/S</td>\n",
       "      <td>TRAPPIST-1e</td>\n",
       "      <td>33.0</td>\n",
       "      <td>False</td>\n",
       "      <td>0.0</td>\n",
       "      <td>1283.0</td>\n",
       "      <td>371.0</td>\n",
       "      <td>...</td>\n",
       "      <td>193.0</td>\n",
       "      <td>Solam Susent</td>\n",
       "      <td>False</td>\n",
       "      <td>02</td>\n",
       "      <td>0003</td>\n",
       "      <td>5176.0</td>\n",
       "      <td>0</td>\n",
       "      <td>1</td>\n",
       "      <td>1</td>\n",
       "      <td>0</td>\n",
       "    </tr>\n",
       "    <tr>\n",
       "      <th>4</th>\n",
       "      <td>0004_01</td>\n",
       "      <td>Earth</td>\n",
       "      <td>False</td>\n",
       "      <td>F/1/S</td>\n",
       "      <td>TRAPPIST-1e</td>\n",
       "      <td>16.0</td>\n",
       "      <td>False</td>\n",
       "      <td>303.0</td>\n",
       "      <td>70.0</td>\n",
       "      <td>151.0</td>\n",
       "      <td>...</td>\n",
       "      <td>2.0</td>\n",
       "      <td>Willy Santantines</td>\n",
       "      <td>True</td>\n",
       "      <td>01</td>\n",
       "      <td>0004</td>\n",
       "      <td>1091.0</td>\n",
       "      <td>0</td>\n",
       "      <td>1</td>\n",
       "      <td>0</td>\n",
       "      <td>0</td>\n",
       "    </tr>\n",
       "  </tbody>\n",
       "</table>\n",
       "<p>5 rows × 21 columns</p>\n",
       "</div>"
      ],
      "text/plain": [
       "  PassengerId HomePlanet CryoSleep  Cabin  Destination   Age    VIP  \\\n",
       "0     0001_01     Europa     False  B/0/P  TRAPPIST-1e  39.0  False   \n",
       "1     0002_01      Earth     False  F/0/S  TRAPPIST-1e  24.0  False   \n",
       "2     0003_01     Europa     False  A/0/S  TRAPPIST-1e  58.0   True   \n",
       "3     0003_02     Europa     False  A/0/S  TRAPPIST-1e  33.0  False   \n",
       "4     0004_01      Earth     False  F/1/S  TRAPPIST-1e  16.0  False   \n",
       "\n",
       "   RoomService  FoodCourt  ShoppingMall  ...  VRDeck               Name  \\\n",
       "0          0.0        0.0           0.0  ...     0.0    Maham Ofracculy   \n",
       "1        109.0        9.0          25.0  ...    44.0       Juanna Vines   \n",
       "2         43.0     3576.0           0.0  ...    49.0      Altark Susent   \n",
       "3          0.0     1283.0         371.0  ...   193.0       Solam Susent   \n",
       "4        303.0       70.0         151.0  ...     2.0  Willy Santantines   \n",
       "\n",
       "  Transported  NumGroups GroupNumber TotalSum  PSO J318.5-22  TRAPPIST-1e  \\\n",
       "0       False         01        0001      0.0              0            1   \n",
       "1        True         01        0002    736.0              0            1   \n",
       "2       False         01        0003  10383.0              0            1   \n",
       "3       False         02        0003   5176.0              0            1   \n",
       "4        True         01        0004   1091.0              0            1   \n",
       "\n",
       "   Europa  Mars  \n",
       "0       1     0  \n",
       "1       0     0  \n",
       "2       1     0  \n",
       "3       1     0  \n",
       "4       0     0  \n",
       "\n",
       "[5 rows x 21 columns]"
      ]
     },
     "execution_count": 33,
     "metadata": {},
     "output_type": "execute_result"
    }
   ],
   "source": [
    "df.head()"
   ]
  },
  {
   "cell_type": "code",
   "execution_count": 34,
   "id": "1be961e5",
   "metadata": {
    "execution": {
     "iopub.execute_input": "2022-04-15T11:31:38.770107Z",
     "iopub.status.busy": "2022-04-15T11:31:38.769647Z",
     "iopub.status.idle": "2022-04-15T11:31:38.776733Z",
     "shell.execute_reply": "2022-04-15T11:31:38.776150Z"
    },
    "papermill": {
     "duration": 0.085824,
     "end_time": "2022-04-15T11:31:38.778565",
     "exception": false,
     "start_time": "2022-04-15T11:31:38.692741",
     "status": "completed"
    },
    "tags": []
   },
   "outputs": [],
   "source": [
    "df.drop([\"HomePlanet\", \"Name\", \"Cabin\", \"TotalSum\", \"Destination\", \"PassengerId\"], axis = 1, inplace = True)"
   ]
  },
  {
   "cell_type": "code",
   "execution_count": 35,
   "id": "51eeda9d",
   "metadata": {
    "execution": {
     "iopub.execute_input": "2022-04-15T11:31:38.930904Z",
     "iopub.status.busy": "2022-04-15T11:31:38.930526Z",
     "iopub.status.idle": "2022-04-15T11:31:38.936590Z",
     "shell.execute_reply": "2022-04-15T11:31:38.935940Z"
    },
    "papermill": {
     "duration": 0.085644,
     "end_time": "2022-04-15T11:31:38.938630",
     "exception": false,
     "start_time": "2022-04-15T11:31:38.852986",
     "status": "completed"
    },
    "tags": []
   },
   "outputs": [],
   "source": [
    "test.drop([\"HomePlanet\", \"Name\", \"Cabin\",\"Destination\", \"PassengerId\"], axis = 1, inplace = True)"
   ]
  },
  {
   "cell_type": "code",
   "execution_count": 36,
   "id": "1f95b136",
   "metadata": {
    "execution": {
     "iopub.execute_input": "2022-04-15T11:31:39.089972Z",
     "iopub.status.busy": "2022-04-15T11:31:39.089576Z",
     "iopub.status.idle": "2022-04-15T11:31:39.619037Z",
     "shell.execute_reply": "2022-04-15T11:31:39.618209Z"
    },
    "papermill": {
     "duration": 0.607631,
     "end_time": "2022-04-15T11:31:39.621211",
     "exception": false,
     "start_time": "2022-04-15T11:31:39.013580",
     "status": "completed"
    },
    "tags": []
   },
   "outputs": [
    {
     "data": {
      "text/plain": [
       "<AxesSubplot:>"
      ]
     },
     "execution_count": 36,
     "metadata": {},
     "output_type": "execute_result"
    },
    {
     "data": {
      "image/png": "[encoded data removed]",
      "text/plain": [
       "<Figure size 720x576 with 2 Axes>"
      ]
     },
     "metadata": {},
     "output_type": "display_data"
    }
   ],
   "source": [
    "plt.figure(figsize = (10, 8))\n",
    "sns.heatmap(data = df.isnull(), yticklabels = False)"
   ]
  },
  {
   "cell_type": "code",
   "execution_count": 37,
   "id": "9d71a87c",
   "metadata": {
    "execution": {
     "iopub.execute_input": "2022-04-15T11:31:39.778871Z",
     "iopub.status.busy": "2022-04-15T11:31:39.778601Z",
     "iopub.status.idle": "2022-04-15T11:31:39.793918Z",
     "shell.execute_reply": "2022-04-15T11:31:39.793235Z"
    },
    "papermill": {
     "duration": 0.097233,
     "end_time": "2022-04-15T11:31:39.796065",
     "exception": false,
     "start_time": "2022-04-15T11:31:39.698832",
     "status": "completed"
    },
    "tags": []
   },
   "outputs": [],
   "source": [
    "df.fillna(value = {\"CryoSleep\" : False, \"VIP\" : False, \"RoomService\" : 0.0, \"FoodCourt\" : 0, \"ShoppingMall\" : 0, \"VRDeck\" : 0, \"Spa\" : 0}, inplace = True)\n",
    "test.fillna(value = {\"CryoSleep\" : False, \"VIP\" : False, \"RoomService\" : 0.0, \"FoodCourt\" : 0, \"ShoppingMall\" : 0, \"VRDeck\" : 0, \"Spa\" : 0}, inplace = True)"
   ]
  },
  {
   "cell_type": "code",
   "execution_count": 38,
   "id": "9949ca0b",
   "metadata": {
    "execution": {
     "iopub.execute_input": "2022-04-15T11:31:39.951920Z",
     "iopub.status.busy": "2022-04-15T11:31:39.951657Z",
     "iopub.status.idle": "2022-04-15T11:31:40.513448Z",
     "shell.execute_reply": "2022-04-15T11:31:40.512623Z"
    },
    "papermill": {
     "duration": 0.643016,
     "end_time": "2022-04-15T11:31:40.515375",
     "exception": false,
     "start_time": "2022-04-15T11:31:39.872359",
     "status": "completed"
    },
    "tags": []
   },
   "outputs": [
    {
     "data": {
      "text/plain": [
       "<AxesSubplot:>"
      ]
     },
     "execution_count": 38,
     "metadata": {},
     "output_type": "execute_result"
    },
    {
     "data": {
      "image/png": "[encoded data removed]",
      "text/plain": [
       "<Figure size 720x576 with 2 Axes>"
      ]
     },
     "metadata": {},
     "output_type": "display_data"
    }
   ],
   "source": [
    "plt.figure(figsize = (10, 8))\n",
    "sns.heatmap(data = df.isnull(), yticklabels = False)"
   ]
  },
  {
   "cell_type": "code",
   "execution_count": 39,
   "id": "9440eac9",
   "metadata": {
    "execution": {
     "iopub.execute_input": "2022-04-15T11:31:40.674505Z",
     "iopub.status.busy": "2022-04-15T11:31:40.673866Z",
     "iopub.status.idle": "2022-04-15T11:31:40.693986Z",
     "shell.execute_reply": "2022-04-15T11:31:40.693175Z"
    },
    "papermill": {
     "duration": 0.101944,
     "end_time": "2022-04-15T11:31:40.696165",
     "exception": false,
     "start_time": "2022-04-15T11:31:40.594221",
     "status": "completed"
    },
    "tags": []
   },
   "outputs": [
    {
     "data": {
      "text/html": [
       "<div>\n",
       "<style scoped>\n",
       "    .dataframe tbody tr th:only-of-type {\n",
       "        vertical-align: middle;\n",
       "    }\n",
       "\n",
       "    .dataframe tbody tr th {\n",
       "        vertical-align: top;\n",
       "    }\n",
       "\n",
       "    .dataframe thead th {\n",
       "        text-align: right;\n",
       "    }\n",
       "</style>\n",
       "<table border=\"1\" class=\"dataframe\">\n",
       "  <thead>\n",
       "    <tr style=\"text-align: right;\">\n",
       "      <th></th>\n",
       "      <th>CryoSleep</th>\n",
       "      <th>Age</th>\n",
       "      <th>VIP</th>\n",
       "      <th>RoomService</th>\n",
       "      <th>FoodCourt</th>\n",
       "      <th>ShoppingMall</th>\n",
       "      <th>Spa</th>\n",
       "      <th>VRDeck</th>\n",
       "      <th>Transported</th>\n",
       "      <th>NumGroups</th>\n",
       "      <th>GroupNumber</th>\n",
       "      <th>PSO J318.5-22</th>\n",
       "      <th>TRAPPIST-1e</th>\n",
       "      <th>Europa</th>\n",
       "      <th>Mars</th>\n",
       "    </tr>\n",
       "  </thead>\n",
       "  <tbody>\n",
       "    <tr>\n",
       "      <th>0</th>\n",
       "      <td>False</td>\n",
       "      <td>39.0</td>\n",
       "      <td>False</td>\n",
       "      <td>0.0</td>\n",
       "      <td>0.0</td>\n",
       "      <td>0.0</td>\n",
       "      <td>0.0</td>\n",
       "      <td>0.0</td>\n",
       "      <td>False</td>\n",
       "      <td>01</td>\n",
       "      <td>0001</td>\n",
       "      <td>0</td>\n",
       "      <td>1</td>\n",
       "      <td>1</td>\n",
       "      <td>0</td>\n",
       "    </tr>\n",
       "    <tr>\n",
       "      <th>1</th>\n",
       "      <td>False</td>\n",
       "      <td>24.0</td>\n",
       "      <td>False</td>\n",
       "      <td>109.0</td>\n",
       "      <td>9.0</td>\n",
       "      <td>25.0</td>\n",
       "      <td>549.0</td>\n",
       "      <td>44.0</td>\n",
       "      <td>True</td>\n",
       "      <td>01</td>\n",
       "      <td>0002</td>\n",
       "      <td>0</td>\n",
       "      <td>1</td>\n",
       "      <td>0</td>\n",
       "      <td>0</td>\n",
       "    </tr>\n",
       "    <tr>\n",
       "      <th>2</th>\n",
       "      <td>False</td>\n",
       "      <td>58.0</td>\n",
       "      <td>True</td>\n",
       "      <td>43.0</td>\n",
       "      <td>3576.0</td>\n",
       "      <td>0.0</td>\n",
       "      <td>6715.0</td>\n",
       "      <td>49.0</td>\n",
       "      <td>False</td>\n",
       "      <td>01</td>\n",
       "      <td>0003</td>\n",
       "      <td>0</td>\n",
       "      <td>1</td>\n",
       "      <td>1</td>\n",
       "      <td>0</td>\n",
       "    </tr>\n",
       "    <tr>\n",
       "      <th>3</th>\n",
       "      <td>False</td>\n",
       "      <td>33.0</td>\n",
       "      <td>False</td>\n",
       "      <td>0.0</td>\n",
       "      <td>1283.0</td>\n",
       "      <td>371.0</td>\n",
       "      <td>3329.0</td>\n",
       "      <td>193.0</td>\n",
       "      <td>False</td>\n",
       "      <td>02</td>\n",
       "      <td>0003</td>\n",
       "      <td>0</td>\n",
       "      <td>1</td>\n",
       "      <td>1</td>\n",
       "      <td>0</td>\n",
       "    </tr>\n",
       "    <tr>\n",
       "      <th>4</th>\n",
       "      <td>False</td>\n",
       "      <td>16.0</td>\n",
       "      <td>False</td>\n",
       "      <td>303.0</td>\n",
       "      <td>70.0</td>\n",
       "      <td>151.0</td>\n",
       "      <td>565.0</td>\n",
       "      <td>2.0</td>\n",
       "      <td>True</td>\n",
       "      <td>01</td>\n",
       "      <td>0004</td>\n",
       "      <td>0</td>\n",
       "      <td>1</td>\n",
       "      <td>0</td>\n",
       "      <td>0</td>\n",
       "    </tr>\n",
       "  </tbody>\n",
       "</table>\n",
       "</div>"
      ],
      "text/plain": [
       "   CryoSleep   Age    VIP  RoomService  FoodCourt  ShoppingMall     Spa  \\\n",
       "0      False  39.0  False          0.0        0.0           0.0     0.0   \n",
       "1      False  24.0  False        109.0        9.0          25.0   549.0   \n",
       "2      False  58.0   True         43.0     3576.0           0.0  6715.0   \n",
       "3      False  33.0  False          0.0     1283.0         371.0  3329.0   \n",
       "4      False  16.0  False        303.0       70.0         151.0   565.0   \n",
       "\n",
       "   VRDeck  Transported NumGroups GroupNumber  PSO J318.5-22  TRAPPIST-1e  \\\n",
       "0     0.0        False        01        0001              0            1   \n",
       "1    44.0         True        01        0002              0            1   \n",
       "2    49.0        False        01        0003              0            1   \n",
       "3   193.0        False        02        0003              0            1   \n",
       "4     2.0         True        01        0004              0            1   \n",
       "\n",
       "   Europa  Mars  \n",
       "0       1     0  \n",
       "1       0     0  \n",
       "2       1     0  \n",
       "3       1     0  \n",
       "4       0     0  "
      ]
     },
     "execution_count": 39,
     "metadata": {},
     "output_type": "execute_result"
    }
   ],
   "source": [
    "df.head()"
   ]
  },
  {
   "cell_type": "code",
   "execution_count": 40,
   "id": "0dc75157",
   "metadata": {
    "execution": {
     "iopub.execute_input": "2022-04-15T11:31:40.886917Z",
     "iopub.status.busy": "2022-04-15T11:31:40.886662Z",
     "iopub.status.idle": "2022-04-15T11:31:40.905699Z",
     "shell.execute_reply": "2022-04-15T11:31:40.904850Z"
    },
    "papermill": {
     "duration": 0.108472,
     "end_time": "2022-04-15T11:31:40.907804",
     "exception": false,
     "start_time": "2022-04-15T11:31:40.799332",
     "status": "completed"
    },
    "tags": []
   },
   "outputs": [
    {
     "data": {
      "text/html": [
       "<div>\n",
       "<style scoped>\n",
       "    .dataframe tbody tr th:only-of-type {\n",
       "        vertical-align: middle;\n",
       "    }\n",
       "\n",
       "    .dataframe tbody tr th {\n",
       "        vertical-align: top;\n",
       "    }\n",
       "\n",
       "    .dataframe thead th {\n",
       "        text-align: right;\n",
       "    }\n",
       "</style>\n",
       "<table border=\"1\" class=\"dataframe\">\n",
       "  <thead>\n",
       "    <tr style=\"text-align: right;\">\n",
       "      <th></th>\n",
       "      <th>CryoSleep</th>\n",
       "      <th>Age</th>\n",
       "      <th>VIP</th>\n",
       "      <th>RoomService</th>\n",
       "      <th>FoodCourt</th>\n",
       "      <th>ShoppingMall</th>\n",
       "      <th>Spa</th>\n",
       "      <th>VRDeck</th>\n",
       "      <th>NumGroups</th>\n",
       "      <th>GroupNumber</th>\n",
       "      <th>PSO J318.5-22</th>\n",
       "      <th>TRAPPIST-1e</th>\n",
       "      <th>Europa</th>\n",
       "      <th>Mars</th>\n",
       "    </tr>\n",
       "  </thead>\n",
       "  <tbody>\n",
       "    <tr>\n",
       "      <th>0</th>\n",
       "      <td>True</td>\n",
       "      <td>27.0</td>\n",
       "      <td>False</td>\n",
       "      <td>0.0</td>\n",
       "      <td>0.0</td>\n",
       "      <td>0.0</td>\n",
       "      <td>0.0</td>\n",
       "      <td>0.0</td>\n",
       "      <td>01</td>\n",
       "      <td>0013</td>\n",
       "      <td>0</td>\n",
       "      <td>1</td>\n",
       "      <td>0</td>\n",
       "      <td>0</td>\n",
       "    </tr>\n",
       "    <tr>\n",
       "      <th>1</th>\n",
       "      <td>False</td>\n",
       "      <td>19.0</td>\n",
       "      <td>False</td>\n",
       "      <td>0.0</td>\n",
       "      <td>9.0</td>\n",
       "      <td>0.0</td>\n",
       "      <td>2823.0</td>\n",
       "      <td>0.0</td>\n",
       "      <td>01</td>\n",
       "      <td>0018</td>\n",
       "      <td>0</td>\n",
       "      <td>1</td>\n",
       "      <td>0</td>\n",
       "      <td>0</td>\n",
       "    </tr>\n",
       "    <tr>\n",
       "      <th>2</th>\n",
       "      <td>True</td>\n",
       "      <td>31.0</td>\n",
       "      <td>False</td>\n",
       "      <td>0.0</td>\n",
       "      <td>0.0</td>\n",
       "      <td>0.0</td>\n",
       "      <td>0.0</td>\n",
       "      <td>0.0</td>\n",
       "      <td>01</td>\n",
       "      <td>0019</td>\n",
       "      <td>0</td>\n",
       "      <td>0</td>\n",
       "      <td>1</td>\n",
       "      <td>0</td>\n",
       "    </tr>\n",
       "    <tr>\n",
       "      <th>3</th>\n",
       "      <td>False</td>\n",
       "      <td>38.0</td>\n",
       "      <td>False</td>\n",
       "      <td>0.0</td>\n",
       "      <td>6652.0</td>\n",
       "      <td>0.0</td>\n",
       "      <td>181.0</td>\n",
       "      <td>585.0</td>\n",
       "      <td>01</td>\n",
       "      <td>0021</td>\n",
       "      <td>0</td>\n",
       "      <td>1</td>\n",
       "      <td>1</td>\n",
       "      <td>0</td>\n",
       "    </tr>\n",
       "    <tr>\n",
       "      <th>4</th>\n",
       "      <td>False</td>\n",
       "      <td>20.0</td>\n",
       "      <td>False</td>\n",
       "      <td>10.0</td>\n",
       "      <td>0.0</td>\n",
       "      <td>635.0</td>\n",
       "      <td>0.0</td>\n",
       "      <td>0.0</td>\n",
       "      <td>01</td>\n",
       "      <td>0023</td>\n",
       "      <td>0</td>\n",
       "      <td>1</td>\n",
       "      <td>0</td>\n",
       "      <td>0</td>\n",
       "    </tr>\n",
       "  </tbody>\n",
       "</table>\n",
       "</div>"
      ],
      "text/plain": [
       "   CryoSleep   Age    VIP  RoomService  FoodCourt  ShoppingMall     Spa  \\\n",
       "0       True  27.0  False          0.0        0.0           0.0     0.0   \n",
       "1      False  19.0  False          0.0        9.0           0.0  2823.0   \n",
       "2       True  31.0  False          0.0        0.0           0.0     0.0   \n",
       "3      False  38.0  False          0.0     6652.0           0.0   181.0   \n",
       "4      False  20.0  False         10.0        0.0         635.0     0.0   \n",
       "\n",
       "   VRDeck NumGroups GroupNumber  PSO J318.5-22  TRAPPIST-1e  Europa  Mars  \n",
       "0     0.0        01        0013              0            1       0     0  \n",
       "1     0.0        01        0018              0            1       0     0  \n",
       "2     0.0        01        0019              0            0       1     0  \n",
       "3   585.0        01        0021              0            1       1     0  \n",
       "4     0.0        01        0023              0            1       0     0  "
      ]
     },
     "execution_count": 40,
     "metadata": {},
     "output_type": "execute_result"
    }
   ],
   "source": [
    "test.head()"
   ]
  },
  {
   "cell_type": "code",
   "execution_count": 41,
   "id": "4f9f0212",
   "metadata": {
    "execution": {
     "iopub.execute_input": "2022-04-15T11:31:41.066201Z",
     "iopub.status.busy": "2022-04-15T11:31:41.065941Z",
     "iopub.status.idle": "2022-04-15T11:31:41.072606Z",
     "shell.execute_reply": "2022-04-15T11:31:41.071916Z"
    },
    "papermill": {
     "duration": 0.088725,
     "end_time": "2022-04-15T11:31:41.074578",
     "exception": false,
     "start_time": "2022-04-15T11:31:40.985853",
     "status": "completed"
    },
    "tags": []
   },
   "outputs": [],
   "source": [
    "X_train = df.drop(\"Transported\", axis = 1)\n",
    "y_train = df[\"Transported\"]"
   ]
  },
  {
   "cell_type": "code",
   "execution_count": 42,
   "id": "66010937",
   "metadata": {
    "execution": {
     "iopub.execute_input": "2022-04-15T11:31:41.233083Z",
     "iopub.status.busy": "2022-04-15T11:31:41.232819Z",
     "iopub.status.idle": "2022-04-15T11:31:41.480619Z",
     "shell.execute_reply": "2022-04-15T11:31:41.479785Z"
    },
    "papermill": {
     "duration": 0.330343,
     "end_time": "2022-04-15T11:31:41.483073",
     "exception": false,
     "start_time": "2022-04-15T11:31:41.152730",
     "status": "completed"
    },
    "tags": []
   },
   "outputs": [],
   "source": [
    "from sklearn.linear_model import LogisticRegression"
   ]
  },
  {
   "cell_type": "code",
   "execution_count": 43,
   "id": "c89d6df1",
   "metadata": {
    "execution": {
     "iopub.execute_input": "2022-04-15T11:31:41.642177Z",
     "iopub.status.busy": "2022-04-15T11:31:41.641827Z",
     "iopub.status.idle": "2022-04-15T11:31:41.645781Z",
     "shell.execute_reply": "2022-04-15T11:31:41.644947Z"
    },
    "papermill": {
     "duration": 0.086119,
     "end_time": "2022-04-15T11:31:41.647637",
     "exception": false,
     "start_time": "2022-04-15T11:31:41.561518",
     "status": "completed"
    },
    "tags": []
   },
   "outputs": [],
   "source": [
    "logmodel = LogisticRegression(max_iter = 1000)"
   ]
  },
  {
   "cell_type": "code",
   "execution_count": 44,
   "id": "1f8ddef7",
   "metadata": {
    "execution": {
     "iopub.execute_input": "2022-04-15T11:31:41.807527Z",
     "iopub.status.busy": "2022-04-15T11:31:41.807232Z",
     "iopub.status.idle": "2022-04-15T11:31:42.296149Z",
     "shell.execute_reply": "2022-04-15T11:31:42.295280Z"
    },
    "papermill": {
     "duration": 0.573286,
     "end_time": "2022-04-15T11:31:42.299891",
     "exception": false,
     "start_time": "2022-04-15T11:31:41.726605",
     "status": "completed"
    },
    "tags": []
   },
   "outputs": [
    {
     "data": {
      "text/plain": [
       "LogisticRegression(max_iter=1000)"
      ]
     },
     "execution_count": 44,
     "metadata": {},
     "output_type": "execute_result"
    }
   ],
   "source": [
    "logmodel.fit(X_train, y_train)"
   ]
  },
  {
   "cell_type": "code",
   "execution_count": 45,
   "id": "183c13d2",
   "metadata": {
    "execution": {
     "iopub.execute_input": "2022-04-15T11:31:42.511685Z",
     "iopub.status.busy": "2022-04-15T11:31:42.511396Z",
     "iopub.status.idle": "2022-04-15T11:31:42.528799Z",
     "shell.execute_reply": "2022-04-15T11:31:42.527873Z"
    },
    "papermill": {
     "duration": 0.101307,
     "end_time": "2022-04-15T11:31:42.531973",
     "exception": false,
     "start_time": "2022-04-15T11:31:42.430666",
     "status": "completed"
    },
    "tags": []
   },
   "outputs": [],
   "source": [
    "predictions = logmodel.predict(test)"
   ]
  },
  {
   "cell_type": "code",
   "execution_count": 46,
   "id": "8ed93d74",
   "metadata": {
    "execution": {
     "iopub.execute_input": "2022-04-15T11:31:42.747385Z",
     "iopub.status.busy": "2022-04-15T11:31:42.747139Z",
     "iopub.status.idle": "2022-04-15T11:31:42.751186Z",
     "shell.execute_reply": "2022-04-15T11:31:42.750335Z"
    },
    "papermill": {
     "duration": 0.087954,
     "end_time": "2022-04-15T11:31:42.753138",
     "exception": false,
     "start_time": "2022-04-15T11:31:42.665184",
     "status": "completed"
    },
    "tags": []
   },
   "outputs": [],
   "source": [
    "predictions = pd.DataFrame(predictions)"
   ]
  },
  {
   "cell_type": "code",
   "execution_count": 47,
   "id": "68bd26fa",
   "metadata": {
    "execution": {
     "iopub.execute_input": "2022-04-15T11:31:42.915466Z",
     "iopub.status.busy": "2022-04-15T11:31:42.915165Z",
     "iopub.status.idle": "2022-04-15T11:31:42.919327Z",
     "shell.execute_reply": "2022-04-15T11:31:42.918515Z"
    },
    "papermill": {
     "duration": 0.088868,
     "end_time": "2022-04-15T11:31:42.922594",
     "exception": false,
     "start_time": "2022-04-15T11:31:42.833726",
     "status": "completed"
    },
    "tags": []
   },
   "outputs": [],
   "source": [
    "predictions = predictions[0].rename(\"Transported\")"
   ]
  },
  {
   "cell_type": "code",
   "execution_count": 48,
   "id": "f235579f",
   "metadata": {
    "execution": {
     "iopub.execute_input": "2022-04-15T11:31:43.084136Z",
     "iopub.status.busy": "2022-04-15T11:31:43.083577Z",
     "iopub.status.idle": "2022-04-15T11:31:43.088213Z",
     "shell.execute_reply": "2022-04-15T11:31:43.087622Z"
    },
    "papermill": {
     "duration": 0.087476,
     "end_time": "2022-04-15T11:31:43.090167",
     "exception": false,
     "start_time": "2022-04-15T11:31:43.002691",
     "status": "completed"
    },
    "tags": []
   },
   "outputs": [],
   "source": [
    "predictions = pd.DataFrame(predictions)"
   ]
  },
  {
   "cell_type": "code",
   "execution_count": 49,
   "id": "46410f77",
   "metadata": {
    "execution": {
     "iopub.execute_input": "2022-04-15T11:31:43.250315Z",
     "iopub.status.busy": "2022-04-15T11:31:43.249781Z",
     "iopub.status.idle": "2022-04-15T11:31:43.257665Z",
     "shell.execute_reply": "2022-04-15T11:31:43.256955Z"
    },
    "papermill": {
     "duration": 0.090311,
     "end_time": "2022-04-15T11:31:43.259662",
     "exception": false,
     "start_time": "2022-04-15T11:31:43.169351",
     "status": "completed"
    },
    "tags": []
   },
   "outputs": [],
   "source": [
    " predictions[\"PassengerId\"] = test[\"GroupNumber\"] + \"_\" + test[\"NumGroups\"].apply(str)"
   ]
  },
  {
   "cell_type": "code",
   "execution_count": 50,
   "id": "5cccbac0",
   "metadata": {
    "execution": {
     "iopub.execute_input": "2022-04-15T11:31:43.419993Z",
     "iopub.status.busy": "2022-04-15T11:31:43.419424Z",
     "iopub.status.idle": "2022-04-15T11:31:43.424839Z",
     "shell.execute_reply": "2022-04-15T11:31:43.424042Z"
    },
    "papermill": {
     "duration": 0.088243,
     "end_time": "2022-04-15T11:31:43.426824",
     "exception": false,
     "start_time": "2022-04-15T11:31:43.338581",
     "status": "completed"
    },
    "tags": []
   },
   "outputs": [],
   "source": [
    "predictions = predictions[[\"PassengerId\", \"Transported\"]]"
   ]
  },
  {
   "cell_type": "code",
   "execution_count": 51,
   "id": "e3d49437",
   "metadata": {
    "execution": {
     "iopub.execute_input": "2022-04-15T11:31:43.587291Z",
     "iopub.status.busy": "2022-04-15T11:31:43.586750Z",
     "iopub.status.idle": "2022-04-15T11:31:43.596484Z",
     "shell.execute_reply": "2022-04-15T11:31:43.595641Z"
    },
    "papermill": {
     "duration": 0.092259,
     "end_time": "2022-04-15T11:31:43.598497",
     "exception": false,
     "start_time": "2022-04-15T11:31:43.506238",
     "status": "completed"
    },
    "tags": []
   },
   "outputs": [
    {
     "data": {
      "text/html": [
       "<div>\n",
       "<style scoped>\n",
       "    .dataframe tbody tr th:only-of-type {\n",
       "        vertical-align: middle;\n",
       "    }\n",
       "\n",
       "    .dataframe tbody tr th {\n",
       "        vertical-align: top;\n",
       "    }\n",
       "\n",
       "    .dataframe thead th {\n",
       "        text-align: right;\n",
       "    }\n",
       "</style>\n",
       "<table border=\"1\" class=\"dataframe\">\n",
       "  <thead>\n",
       "    <tr style=\"text-align: right;\">\n",
       "      <th></th>\n",
       "      <th>PassengerId</th>\n",
       "      <th>Transported</th>\n",
       "    </tr>\n",
       "  </thead>\n",
       "  <tbody>\n",
       "    <tr>\n",
       "      <th>0</th>\n",
       "      <td>0013_01</td>\n",
       "      <td>True</td>\n",
       "    </tr>\n",
       "    <tr>\n",
       "      <th>1</th>\n",
       "      <td>0018_01</td>\n",
       "      <td>False</td>\n",
       "    </tr>\n",
       "    <tr>\n",
       "      <th>2</th>\n",
       "      <td>0019_01</td>\n",
       "      <td>True</td>\n",
       "    </tr>\n",
       "    <tr>\n",
       "      <th>3</th>\n",
       "      <td>0021_01</td>\n",
       "      <td>True</td>\n",
       "    </tr>\n",
       "    <tr>\n",
       "      <th>4</th>\n",
       "      <td>0023_01</td>\n",
       "      <td>False</td>\n",
       "    </tr>\n",
       "  </tbody>\n",
       "</table>\n",
       "</div>"
      ],
      "text/plain": [
       "  PassengerId  Transported\n",
       "0     0013_01         True\n",
       "1     0018_01        False\n",
       "2     0019_01         True\n",
       "3     0021_01         True\n",
       "4     0023_01        False"
      ]
     },
     "execution_count": 51,
     "metadata": {},
     "output_type": "execute_result"
    }
   ],
   "source": [
    "predictions.head()"
   ]
  },
  {
   "cell_type": "code",
   "execution_count": 52,
   "id": "2275a53e",
   "metadata": {
    "execution": {
     "iopub.execute_input": "2022-04-15T11:31:43.760802Z",
     "iopub.status.busy": "2022-04-15T11:31:43.760246Z",
     "iopub.status.idle": "2022-04-15T11:31:43.774898Z",
     "shell.execute_reply": "2022-04-15T11:31:43.774125Z"
    },
    "papermill": {
     "duration": 0.098644,
     "end_time": "2022-04-15T11:31:43.777246",
     "exception": false,
     "start_time": "2022-04-15T11:31:43.678602",
     "status": "completed"
    },
    "tags": []
   },
   "outputs": [],
   "source": [
    "predictions.to_csv(\"res.csv\", index = False)"
   ]
  },
  {
   "cell_type": "code",
   "execution_count": null,
   "id": "eb30fd5b",
   "metadata": {
    "papermill": {
     "duration": 0.082019,
     "end_time": "2022-04-15T11:31:43.942039",
     "exception": false,
     "start_time": "2022-04-15T11:31:43.860020",
     "status": "completed"
    },
    "tags": []
   },
   "outputs": [],
   "source": []
  }
 ],
 "metadata": {
  "kernelspec": {
   "display_name": "Python 3",
   "language": "python",
   "name": "python3"
  },
  "language_info": {
   "codemirror_mode": {
    "name": "ipython",
    "version": 3
   },
   "file_extension": ".py",
   "mimetype": "text/x-python",
   "name": "python",
   "nbconvert_exporter": "python",
   "pygments_lexer": "ipython3",
   "version": "3.7.12"
  },
  "papermill": {
   "default_parameters": {},
   "duration": 25.615918,
   "end_time": "2022-04-15T11:31:44.843629",
   "environment_variables": {},
   "exception": null,
   "input_path": "__notebook__.ipynb",
   "output_path": "__notebook__.ipynb",
   "parameters": {},
   "start_time": "2022-04-15T11:31:19.227711",
   "version": "2.3.4"
  }
 },
 "nbformat": 4,
 "nbformat_minor": 5
}
